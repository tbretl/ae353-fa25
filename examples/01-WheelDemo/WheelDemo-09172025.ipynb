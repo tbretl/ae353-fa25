{
 "cells": [
  {
   "cell_type": "markdown",
   "id": "middle-acoustic",
   "metadata": {},
   "source": [
    "# Demo: Control of a wheel (stability)"
   ]
  },
  {
   "cell_type": "markdown",
   "id": "working-minority",
   "metadata": {},
   "source": [
    "Import modules and configure the notebook."
   ]
  },
  {
   "cell_type": "code",
   "execution_count": null,
   "id": "dimensional-contamination",
   "metadata": {},
   "outputs": [],
   "source": [
    "# These are standard modules\n",
    "import time\n",
    "import numpy as np\n",
    "import sympy as sym\n",
    "from scipy.signal import place_poles\n",
    "from scipy import linalg\n",
    "import matplotlib.pyplot as plt\n",
    "from IPython.display import display, Markdown\n",
    "\n",
    "# This is a custom interface to the pybullet simulator\n",
    "import ae353_wheel"
   ]
  },
  {
   "cell_type": "markdown",
   "id": "aa08c8ac",
   "metadata": {},
   "source": [
    "## Find state space model"
   ]
  },
  {
   "cell_type": "markdown",
   "id": "05fe65b1",
   "metadata": {},
   "source": [
    "The equation of motion is\n",
    "\n",
    "$$c_1 \\ddot{q} = \\tau - c_2\\sin q$$\n",
    "\n",
    "where\n",
    "\n",
    "* $q$ is the wheel angle\n",
    "* $\\tau$ is the wheel torque, i.e., the torque applied to the wheel by a motor on the ground\n",
    "\n",
    "and where the values of $c_1$ and $c_2$ are given as follows:"
   ]
  },
  {
   "cell_type": "code",
   "execution_count": null,
   "id": "4273a416",
   "metadata": {},
   "outputs": [],
   "source": [
    "# Values of c1 and c2 for the example (do not change)\n",
    "c1 = 1.0\n",
    "c2 = 2.0\n",
    "\n",
    "# Values of other parameters that are given\n",
    "g = 9.81 # <-- acceleration of gravity\n",
    "r = 0.35 # <-- distance from wheel axis to marker (i.e., to the mass)\n",
    "\n",
    "# Values of other parameters that correspond to the coefficients c1 and c2 that we chose\n",
    "m = c2 / (g * r)\n",
    "J = c1 - m * r**2\n",
    "\n",
    "# Show c1 and c2\n",
    "print(f'c1 = {c1}\\nc2 = {c2}')"
   ]
  },
  {
   "cell_type": "markdown",
   "id": "e0ab1e54",
   "metadata": {},
   "source": [
    "Define symbolic variables:"
   ]
  },
  {
   "cell_type": "code",
   "execution_count": null,
   "id": "4ce1b515",
   "metadata": {},
   "outputs": [],
   "source": [
    "q, v, tau = sym.symbols('q, v, tau')"
   ]
  },
  {
   "cell_type": "markdown",
   "id": "68f409c6",
   "metadata": {},
   "source": [
    "Define ODEs:"
   ]
  },
  {
   "cell_type": "code",
   "execution_count": null,
   "id": "d37500b2",
   "metadata": {},
   "outputs": [],
   "source": [
    "f = sym.Matrix([\n",
    "    v,\n",
    "    (tau - c2 * sym.sin(q)) / c1,\n",
    "])"
   ]
  },
  {
   "cell_type": "markdown",
   "id": "f12852e6",
   "metadata": {},
   "source": [
    "Convert floats to rationals:"
   ]
  },
  {
   "cell_type": "code",
   "execution_count": null,
   "id": "4c828f58",
   "metadata": {},
   "outputs": [],
   "source": [
    "f = sym.nsimplify(f, rational=True)"
   ]
  },
  {
   "cell_type": "markdown",
   "id": "99cd4f90",
   "metadata": {},
   "source": [
    "See the result:"
   ]
  },
  {
   "cell_type": "code",
   "execution_count": null,
   "id": "e718fd7c",
   "metadata": {},
   "outputs": [],
   "source": [
    "f"
   ]
  },
  {
   "cell_type": "markdown",
   "id": "58fe787c",
   "metadata": {},
   "source": [
    "Choose equilibrium point:"
   ]
  },
  {
   "cell_type": "code",
   "execution_count": null,
   "id": "d98bfdc4",
   "metadata": {},
   "outputs": [],
   "source": [
    "q_e = np.pi\n",
    "v_e = 0.\n",
    "tau_e = 0."
   ]
  },
  {
   "cell_type": "markdown",
   "id": "32041bc0",
   "metadata": {},
   "source": [
    "Linearize:"
   ]
  },
  {
   "cell_type": "code",
   "execution_count": null,
   "id": "8ab83098",
   "metadata": {},
   "outputs": [],
   "source": [
    "# Take derivatives\n",
    "A_sym = f.jacobian([q, v])\n",
    "B_sym = f.jacobian([tau])\n",
    "\n",
    "# Create lambda functions so we can plug numbers into derivatives\n",
    "A_num = sym.lambdify((q, v, tau), A_sym)\n",
    "B_num = sym.lambdify((q, v, tau), B_sym)\n",
    "\n",
    "# Evaluate lambda functions at equilibrium point\n",
    "A = A_num(q_e, v_e, tau_e).astype(float)\n",
    "B = B_num(q_e, v_e, tau_e).astype(float)\n",
    "\n",
    "# Show result\n",
    "A_num = sym.lambdify([q, v, tau], f.jacobian([q, v]))\n",
    "A = A_num(q_e, v_e, tau_e).astype(float)\n",
    "print(f'A =\\n{A}')\n",
    "print('')\n",
    "B_num = sym.lambdify([q, v, tau], f.jacobian([tau]))\n",
    "B = B_num(q_e, v_e, tau_e).astype(float)\n",
    "print(f'B =\\n{B}')"
   ]
  },
  {
   "cell_type": "markdown",
   "id": "71aa2ee7",
   "metadata": {},
   "source": [
    "The state-space model is\n",
    "\n",
    "$$\\dot{x} = Ax+Bu$$\n",
    "\n",
    "with $A$ and $B$ computed as above and with the state and input defined as\n",
    "\n",
    "$$x = \\begin{bmatrix} q - q_e \\\\ v - v_e \\end{bmatrix} \\qquad\\qquad u = \\begin{bmatrix} \\tau - \\tau_e \\end{bmatrix}.$$"
   ]
  },
  {
   "cell_type": "markdown",
   "id": "10f0a32d",
   "metadata": {},
   "source": [
    "## Prepare to do simulations"
   ]
  },
  {
   "cell_type": "markdown",
   "id": "protective-retreat",
   "metadata": {},
   "source": [
    "Create an instance of the `Simulator` class with particular values of `roll` (angle of ground), `mass`, and `inertia`."
   ]
  },
  {
   "cell_type": "code",
   "execution_count": null,
   "id": "placed-messenger",
   "metadata": {},
   "outputs": [],
   "source": [
    "simulator = ae353_wheel.Simulator(\n",
    "    display=True,\n",
    "    roll=(np.pi / 2),\n",
    "    mass=m,\n",
    "    inertia=J,\n",
    ")"
   ]
  },
  {
   "cell_type": "markdown",
   "id": "f89278b0",
   "metadata": {},
   "source": [
    "Define a function to plot results."
   ]
  },
  {
   "cell_type": "code",
   "execution_count": null,
   "id": "980cff94",
   "metadata": {},
   "outputs": [],
   "source": [
    "def show_results(\n",
    "        data,\n",
    "        qe, ve, taue,\n",
    "        x1_num=None, x2_num=None, u1_num=None,\n",
    "        q_num=None, v_num=None, tau_num=None,\n",
    "    ):\n",
    "    \n",
    "    t = data['t']\n",
    "    q = data['wheel_angle']\n",
    "    v = data['wheel_velocity']\n",
    "    tau = data['wheel_torque']\n",
    "    tau_cmd = data['wheel_torque_command']\n",
    "    x1 = q - qe\n",
    "    x2 = v - ve\n",
    "    u1 = tau - taue\n",
    "    u1_cmd = tau_cmd - taue\n",
    "    \n",
    "    fig, ((ax_q, ax_x1), (ax_v, ax_x2), (ax_tau, ax_u1)) = plt.subplots(\n",
    "        3, 2, figsize=(15, 10), sharex=True,\n",
    "    )\n",
    "\n",
    "    ax_q.plot(t, q, label='$q$', linewidth=4)\n",
    "    ax_q.plot(t, np.ones_like(t) * qe, '--', label='$q_e$', linewidth=4)\n",
    "    \n",
    "    ax_v.plot(t, v, label='$v$', linewidth=4)\n",
    "    ax_v.plot(t, np.ones_like(t) * ve, '--', label='$v_e$', linewidth=4)\n",
    "    \n",
    "    ax_tau.plot(t, tau, label=r'$\\tau$', linewidth=4)\n",
    "    ax_tau.plot(t, np.ones_like(t) * taue, '--', label=r'$\\tau_e$', linewidth=4)\n",
    "    \n",
    "    ax_x1.plot(t, x1, label='$x_1$', linewidth=4)\n",
    "    ax_x2.plot(t, x2, label='$x_2$', linewidth=4)\n",
    "    ax_u1.plot(t, u1, label='$u_1$', linewidth=4)\n",
    "    \n",
    "    ax_tau.plot(t, tau_cmd, '-.', label=r'$\\tau$ (command)', linewidth=3, color='C6')\n",
    "    ax_u1.plot(t, u1_cmd, '-.', label='$u_1$ (command)', linewidth=3, color='C6')\n",
    "    \n",
    "    if q_num is not None: # <-- should really check if all *_num are not None!\n",
    "        ax_q.plot(t, q_num, ':', label='$q$ (linear)', linewidth=6, color='C3')\n",
    "        ax_v.plot(t, v_num, ':', label='$v$ (linear)', linewidth=6, color='C3')\n",
    "        ax_tau.plot(t, tau_num, ':', label=r'$\\tau$ (linear)', linewidth=6, color='C3')\n",
    "        ax_x1.plot(t, x1_num, ':', label='$x_1$ (linear)', linewidth=6, color='C3')\n",
    "        ax_x2.plot(t, x2_num, ':', label='$x_2$ (linear)', linewidth=6, color='C3')\n",
    "        ax_u1.plot(t, u1_num, ':', label='$u_1$ (linear)', linewidth=6, color='C3')\n",
    "    \n",
    "    tau_max = np.ones_like(t) * simulator.tau_max\n",
    "    ax_tau.plot(t, tau_max, '--', label=r'$\\tau$ (max)', linewidth=2, color='C2', zorder=0)\n",
    "    ax_tau.plot(t, - tau_max, '--', linewidth=2, color='C2', zorder=0)\n",
    "    ax_u1.plot(t, tau_max - tau_e, '--', label=r'$u_1$ (max)', linewidth=2, color='C2', zorder=0)\n",
    "    ax_u1.plot(t, - tau_max - tau_e, '--', linewidth=2, color='C2', zorder=0)\n",
    "            \n",
    "    ax_q.grid()\n",
    "    ax_q.legend(fontsize=16)\n",
    "    ax_q.tick_params(labelsize=14)\n",
    "    ax_q.set_ylim(np.pi - 0.25, np.pi + 0.25)\n",
    "    \n",
    "    ax_v.grid()\n",
    "    ax_v.legend(fontsize=16)\n",
    "    ax_v.tick_params(labelsize=14)\n",
    "    ax_v.set_ylim(-1, 1)\n",
    "    \n",
    "    ax_tau.grid()\n",
    "    ax_tau.legend(fontsize=16, loc='upper right')\n",
    "    ax_tau.tick_params(labelsize=14)\n",
    "    ax_tau.set_ylim(-1.2 * simulator.tau_max, 1.2 * simulator.tau_max)\n",
    "\n",
    "    ax_x1.grid()\n",
    "    ax_x1.legend(fontsize=16)\n",
    "    ax_x1.tick_params(labelsize=14)\n",
    "    ax_x1.set_ylim(-0.25, 0.25)\n",
    "        \n",
    "    ax_x2.grid()\n",
    "    ax_x2.legend(fontsize=16)\n",
    "    ax_x2.tick_params(labelsize=14)\n",
    "    ax_x2.set_ylim(-1, 1)\n",
    "    \n",
    "    ax_u1.grid()\n",
    "    ax_u1.legend(fontsize=16, loc='upper right')\n",
    "    ax_u1.tick_params(labelsize=14)\n",
    "    ax_u1.set_ylim(taue + -1.2 * simulator.tau_max, taue + 1.2 * simulator.tau_max)\n",
    "    \n",
    "    ax_tau.set_xlabel('time (s)', fontsize=20)\n",
    "    ax_tau.set_xlim([data['t'][0], data['t'][-1]])\n",
    "    ax_u1.set_xlabel('time (s)', fontsize=20)\n",
    "    ax_u1.set_xlim([data['t'][0], data['t'][-1]])\n",
    "    \n",
    "    fig.tight_layout()\n",
    "    plt.show()"
   ]
  },
  {
   "cell_type": "markdown",
   "id": "d3f03926",
   "metadata": {},
   "source": [
    "Define a function to get the numerical solution $x(t)$ to the closed-loop system, using the matrix exponential."
   ]
  },
  {
   "cell_type": "code",
   "execution_count": null,
   "id": "5b4f9170",
   "metadata": {},
   "outputs": [],
   "source": [
    "def get_solution_numeric(A, B, K, q_e, v_e, tau_e, q_i, v_i, data):\n",
    "    # Define initial conditions\n",
    "    x0 = np.array([\n",
    "        q_i - q_e,\n",
    "        v_i - v_e,\n",
    "    ])\n",
    "\n",
    "    # Create empty arrays to hold state and input at each time\n",
    "    x = []\n",
    "    u = []\n",
    "\n",
    "    # Compute (linear) state and input at each time\n",
    "    for t in data['t']:\n",
    "        xt = linalg.expm((A - B @ K) * t) @ x0\n",
    "        ut = - K @ xt\n",
    "        x.append(xt)\n",
    "        u.append(ut)\n",
    "    x = np.array(x)\n",
    "    u = np.array(u)\n",
    "\n",
    "    # Get components of x(t) and u(t)\n",
    "    x1_num = x[:, 0]\n",
    "    x2_num = x[:, 1]\n",
    "    u1_num = u[:, 0]\n",
    "\n",
    "    # Compute q(t), v(t), and tau(t) from x1(t), x2(t), and u1(t)\n",
    "    q_num = x1_num + q_e\n",
    "    v_num = x2_num + v_e\n",
    "    tau_num = u1_num + tau_e\n",
    "\n",
    "    return q_num, v_num, tau_num, x1_num, x2_num, u1_num"
   ]
  },
  {
   "cell_type": "markdown",
   "id": "029e9ddf",
   "metadata": {},
   "source": [
    "Define a function to get the symbolic solution $x(t)$ to the closed-loop system, using the matrix exponential."
   ]
  },
  {
   "cell_type": "code",
   "execution_count": null,
   "id": "07681fc8",
   "metadata": {},
   "outputs": [],
   "source": [
    "def get_solution_symbolic(A, B, K, q_e, v_e, q_i, v_i):\n",
    "    # Model\n",
    "    A_sym = sym.nsimplify(sym.Matrix(A), rational=True)\n",
    "    B_sym = sym.nsimplify(sym.Matrix(B), rational=True)\n",
    "    K_sym = sym.nsimplify(sym.Matrix(K), rational=True)\n",
    "\n",
    "    # Variables\n",
    "    t = sym.symbols('t', real=True)\n",
    "\n",
    "    # Initial condition\n",
    "    x0 = sym.nsimplify(sym.Matrix([q_i - q_e, v_i - v_e]), rational=True)\n",
    "\n",
    "    # Solution\n",
    "    x_sym = sym.exp((A_sym - B_sym @ K_sym) * t) @ x0\n",
    "\n",
    "    return x_sym"
   ]
  },
  {
   "cell_type": "markdown",
   "id": "3f9ebffb",
   "metadata": {},
   "source": [
    "Define a controller that maps sensor measurements (`wheel_angle` and `wheel_velocity`) to actuator commands (`wheel_torque`). By default, it chooses to apply zero torque to the wheel. Modify the `run` function to make the controller behave differently. This function will be called 100 times per second (i.e., at 100 Hz) by the simulator."
   ]
  },
  {
   "cell_type": "code",
   "execution_count": null,
   "id": "bf439d71",
   "metadata": {},
   "outputs": [],
   "source": [
    "class Controller:\n",
    "    def __init__(self, K, q_e, v_e, tau_e):\n",
    "        self.K = K\n",
    "        self.q_e = q_e\n",
    "        self.v_e = v_e\n",
    "        self.tau_e = tau_e\n",
    "    \n",
    "    def reset(self):\n",
    "        pass\n",
    "    \n",
    "    def run(self, t, wheel_angle, wheel_velocity):\n",
    "        \"\"\"\n",
    "        INPUTS\n",
    "         t = current time (s)\n",
    "         wheel_angle = angle of wheel (rad)\n",
    "         wheel_velocity = angular of wheel (rad / s)\n",
    "        \n",
    "        OUTPUTS\n",
    "         wheel_torque = torque applied to wheel by motor on ground (N m)\n",
    "        \"\"\"\n",
    "        \n",
    "        # FIXME: replace the following line\n",
    "        x = np.array([\n",
    "            wheel_angle - self.q_e,\n",
    "            wheel_velocity - self.v_e,\n",
    "        ])\n",
    "        u = - self.K @ x\n",
    "        wheel_torque = u[0] + self.tau_e\n",
    "        \n",
    "        return wheel_torque"
   ]
  },
  {
   "cell_type": "markdown",
   "id": "69c5b3f8",
   "metadata": {},
   "source": [
    "Define a function to run a simulation and show all the results."
   ]
  },
  {
   "cell_type": "code",
   "execution_count": null,
   "id": "4e55a9f5",
   "metadata": {},
   "outputs": [],
   "source": [
    "def run_simulation(A, B, K, q_e, v_e, tau_e, q_i, v_i, max_time=5.):\n",
    "    # Create an instance of the controller\n",
    "    controller = Controller(K, q_e, v_e, tau_e)\n",
    "\n",
    "    # Reset the simulator\n",
    "    simulator.reset(wheel_angle=q_i, wheel_velocity=v_i)\n",
    "\n",
    "    # Reset the controller\n",
    "    controller.reset()\n",
    "\n",
    "    # Run the simulator\n",
    "    data = simulator.run(controller, max_time=max_time)\n",
    "\n",
    "    # Get numeric solution\n",
    "    q_num, v_num, tau_num, x1_num, x2_num, u1_num = get_solution_numeric(A, B, K, q_e, v_e, tau_e, q_i, v_i, data)\n",
    "    \n",
    "    # Get symbolic solution\n",
    "    x_sym = get_solution_symbolic(A, B, K, q_e, v_e, q_i, v_i)\n",
    "\n",
    "    # Show numeric solution\n",
    "    show_results(\n",
    "        data,                       # <-- data from simulation\n",
    "        q_e, v_e, tau_e,            # <-- equilibrium point\n",
    "        x1_num, x2_num, u1_num,     # <-- solution to (closed-loop) linear system\n",
    "        q_num, v_num, tau_num,      # <-- equivalent, approximate solution to (closed-loop) nonlinear system\n",
    "    )\n",
    "\n",
    "    # Show symbolic solution\n",
    "    display(Markdown(fr'$$\\Huge x(t) \\; = \\; e^{{(A - BK)t}} x(0) \\; = \\; \\begin{{bmatrix}} {sym.latex(x_sym[0])} \\\\[1em] {sym.latex(x_sym[1])} \\end{{bmatrix}}$$'))"
   ]
  },
  {
   "cell_type": "markdown",
   "id": "bc3ce735",
   "metadata": {},
   "source": [
    "## Actually do simulations"
   ]
  },
  {
   "cell_type": "markdown",
   "id": "4b3afdac",
   "metadata": {},
   "source": [
    "### Results for $K = \\begin{bmatrix} 8 & 5 \\end{bmatrix}$"
   ]
  },
  {
   "cell_type": "code",
   "execution_count": null,
   "id": "31930a21",
   "metadata": {},
   "outputs": [],
   "source": [
    "# Choose K\n",
    "K = np.array([[8., 5.]])\n",
    "\n",
    "# Choose initial conditions\n",
    "q_i = np.pi - 0.2\n",
    "v_i = 0.\n",
    "\n",
    "# Run simulation\n",
    "run_simulation(A, B, K, q_e, v_e, tau_e, q_i, v_i, max_time=5.)\n",
    "\n",
    "# Find and show eigenvalues of $A - BK$\n",
    "s = linalg.eigvals(A - B @ K)\n",
    "s1_str = sym.latex(sym.nsimplify(s[0]), imaginary_unit='j')\n",
    "s2_str = sym.latex(sym.nsimplify(s[1]), imaginary_unit='j')\n",
    "display(Markdown(fr'$$\\Huge s_1 = {s1_str} \\qquad s_2 = {s2_str}$$'))\n"
   ]
  },
  {
   "cell_type": "markdown",
   "id": "c0711869",
   "metadata": {},
   "source": [
    "### Results for $K = \\begin{bmatrix} -4 & 1 \\end{bmatrix}$"
   ]
  },
  {
   "cell_type": "code",
   "execution_count": null,
   "id": "93c16876",
   "metadata": {},
   "outputs": [],
   "source": [
    "# Choose K\n",
    "K = np.array([[-4., 1.]])\n",
    "\n",
    "# Choose initial conditions\n",
    "q_i = np.pi - 0.2\n",
    "v_i = 0.\n",
    "\n",
    "# Run simulation\n",
    "run_simulation(A, B, K, q_e, v_e, tau_e, q_i, v_i, max_time=5.)\n",
    "\n",
    "# Find and show eigenvalues of $A - BK$\n",
    "s = linalg.eigvals(A - B @ K)\n",
    "s1_str = sym.latex(sym.nsimplify(s[0]), imaginary_unit='j')\n",
    "s2_str = sym.latex(sym.nsimplify(s[1]), imaginary_unit='j')\n",
    "display(Markdown(fr'$$\\Huge s_1 = {s1_str} \\qquad s_2 = {s2_str}$$'))"
   ]
  },
  {
   "cell_type": "markdown",
   "id": "30bd5082",
   "metadata": {},
   "source": [
    "### Results for $K = \\begin{bmatrix} 28 & 2 \\end{bmatrix}$"
   ]
  },
  {
   "cell_type": "code",
   "execution_count": null,
   "id": "44e11907",
   "metadata": {},
   "outputs": [],
   "source": [
    "# Choose K\n",
    "K = np.array([[28., 2.]])\n",
    "\n",
    "# Choose initial conditions\n",
    "q_i = np.pi - 0.2\n",
    "v_i = 0.\n",
    "\n",
    "# Run simulation\n",
    "run_simulation(A, B, K, q_e, v_e, tau_e, q_i, v_i, max_time=5.)\n",
    "\n",
    "# Find and show eigenvalues of $A - BK$\n",
    "s = linalg.eigvals(A - B @ K)\n",
    "s1_str = sym.latex(sym.nsimplify(s[0]), imaginary_unit='j')\n",
    "s2_str = sym.latex(sym.nsimplify(s[1]), imaginary_unit='j')\n",
    "display(Markdown(fr'$$\\Huge s_1 = {s1_str} \\qquad s_2 = {s2_str}$$'))"
   ]
  },
  {
   "cell_type": "markdown",
   "id": "5cc80bb9",
   "metadata": {},
   "source": [
    "### Results for $K = \\begin{bmatrix} 3 & 2 \\end{bmatrix}$"
   ]
  },
  {
   "cell_type": "code",
   "execution_count": null,
   "id": "b66b0261",
   "metadata": {},
   "outputs": [],
   "source": [
    "# Choose K\n",
    "K = np.array([[3., 2.]])\n",
    "\n",
    "# Choose initial conditions\n",
    "q_i = np.pi - 0.2\n",
    "v_i = 0.\n",
    "\n",
    "# Run simulation\n",
    "run_simulation(A, B, K, q_e, v_e, tau_e, q_i, v_i, max_time=5.)\n",
    "\n",
    "# Find and show eigenvalues of $A - BK$\n",
    "s = linalg.eigvals(A - B @ K)\n",
    "s1_str = sym.latex(sym.nsimplify(s[0]), imaginary_unit='j')\n",
    "s2_str = sym.latex(sym.nsimplify(s[1]), imaginary_unit='j')\n",
    "display(Markdown(fr'$$\\Huge s_1 = {s1_str} \\qquad s_2 = {s2_str}$$'))"
   ]
  },
  {
   "cell_type": "markdown",
   "id": "a49b7450",
   "metadata": {},
   "source": [
    "### Results for $K = \\begin{bmatrix} 1 & 1 \\end{bmatrix}$"
   ]
  },
  {
   "cell_type": "code",
   "execution_count": null,
   "id": "04d37697",
   "metadata": {},
   "outputs": [],
   "source": [
    "# Choose K\n",
    "K = np.array([[1., 1.]])\n",
    "\n",
    "# Choose initial conditions\n",
    "q_i = np.pi - 0.2\n",
    "v_i = 0.\n",
    "\n",
    "# Run simulation\n",
    "run_simulation(A, B, K, q_e, v_e, tau_e, q_i, v_i, max_time=5.)\n",
    "\n",
    "# Find and show eigenvalues of $A - BK$\n",
    "s = linalg.eigvals(A - B @ K)\n",
    "s1_str = sym.latex(sym.nsimplify(s[0]), imaginary_unit='j')\n",
    "s2_str = sym.latex(sym.nsimplify(s[1]), imaginary_unit='j')\n",
    "display(Markdown(fr'$$\\Huge s_1 = {s1_str} \\approx {s[0].real:.2f} \\qquad s_2 = {s2_str} \\approx {s[1].real:.2f}$$'))"
   ]
  },
  {
   "cell_type": "code",
   "execution_count": null,
   "id": "bdd7c02a",
   "metadata": {},
   "outputs": [],
   "source": []
  }
 ],
 "metadata": {
  "kernelspec": {
   "display_name": "ae353",
   "language": "python",
   "name": "python3"
  },
  "language_info": {
   "codemirror_mode": {
    "name": "ipython",
    "version": 3
   },
   "file_extension": ".py",
   "mimetype": "text/x-python",
   "name": "python",
   "nbconvert_exporter": "python",
   "pygments_lexer": "ipython3",
   "version": "3.13.5"
  }
 },
 "nbformat": 4,
 "nbformat_minor": 5
}
