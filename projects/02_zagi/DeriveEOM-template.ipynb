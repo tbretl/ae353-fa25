{
 "cells": [
  {
   "cell_type": "markdown",
   "id": "occasional-george",
   "metadata": {},
   "source": [
    "# Equations of motion for a \"zagi-like\" flying wing UAV"
   ]
  },
  {
   "cell_type": "markdown",
   "id": "d4cbc89f",
   "metadata": {},
   "source": [
    "Do imports."
   ]
  },
  {
   "cell_type": "code",
   "execution_count": null,
   "id": "sitting-discount",
   "metadata": {},
   "outputs": [],
   "source": [
    "import numpy as np\n",
    "import sympy as sym\n",
    "from scipy import linalg\n",
    "import matplotlib.pyplot as plt\n",
    "from IPython.display import display, Markdown"
   ]
  },
  {
   "cell_type": "markdown",
   "id": "e2bc1e04",
   "metadata": {},
   "source": [
    "Define variables and parameters as symbols."
   ]
  },
  {
   "cell_type": "code",
   "execution_count": null,
   "id": "eb2cd207",
   "metadata": {},
   "outputs": [],
   "source": [
    "#\n",
    "# VARIABLES\n",
    "#\n",
    "\n",
    "# Time\n",
    "t = sym.Symbol('t', real=True)\n",
    "\n",
    "# Components of position (meters)\n",
    "p_x, p_y, p_z = sym.symbols('p_x, p_y, p_z', real=True)\n",
    "\n",
    "# Yaw, pitch, and roll angles (radians)\n",
    "psi, theta, phi = sym.symbols('psi, theta, phi', real=True)\n",
    "\n",
    "# Components of linear velocity in the body frame (meters / second)\n",
    "v_x, v_y, v_z = sym.symbols('v_x, v_y, v_z', real=True)\n",
    "\n",
    "# Components of angular velocity in the body frame (radians / second)\n",
    "w_x, w_y, w_z = sym.symbols('w_x, w_y, w_z', real=True)\n",
    "\n",
    "# Elevon angles\n",
    "delta_r, delta_l = sym.symbols('delta_r, delta_l', real=True)\n",
    "\n",
    "#\n",
    "# PARAMETERS\n",
    "#\n",
    "\n",
    "# Aerodynamic parameters\n",
    "rho, S, c, b = sym.symbols('rho, S, c, b', real=True)\n",
    "C_L_0, C_L_alpha, C_L_q, C_L_delta_e = sym.symbols('C_L_0, C_L_alpha, C_L_q, C_L_delta_e', real=True)\n",
    "C_D_0, C_D_alpha, C_D_q, C_D_delta_e = sym.symbols('C_D_0, C_D_alpha, C_D_q, C_D_delta_e', real=True)\n",
    "C_m_0, C_m_alpha, C_m_q, C_m_delta_e = sym.symbols('C_m_0, C_m_alpha, C_m_q, C_m_delta_e', real=True)\n",
    "C_Y_0, C_Y_beta, C_Y_p, C_Y_r, C_Y_delta_a = sym.symbols('C_Y_0, C_Y_beta, C_Y_p, C_Y_r, C_Y_delta_a', real=True)\n",
    "C_l_0, C_l_beta, C_l_p, C_l_r, C_l_delta_a = sym.symbols('C_l_0, C_l_beta, C_l_p, C_l_r, C_l_delta_a', real=True)\n",
    "C_n_0, C_n_beta, C_n_p, C_n_r, C_n_delta_a = sym.symbols('C_n_0, C_n_beta, C_n_p, C_n_r, C_n_delta_a', real=True)\n",
    "e, alpha_0, C_D_p, M = sym.symbols('e, alpha_0, C_D_p, M', real=True)\n",
    "k, k_e = sym.symbols('k, k_e', real=True)\n",
    "\n",
    "# Mass and inertia parameters\n",
    "J_x, J_y, J_z, J_xz = sym.symbols('J_x, J_y, J_z, J_xz', real=True)\n",
    "m, g = sym.symbols('m, g', real=True)"
   ]
  },
  {
   "cell_type": "markdown",
   "id": "9a082a6b",
   "metadata": {},
   "source": [
    "Define numerical values of parameters."
   ]
  },
  {
   "cell_type": "code",
   "execution_count": null,
   "id": "43e0698b",
   "metadata": {},
   "outputs": [],
   "source": [
    "params = {\n",
    "    g: 9.81,               # Gravity (m/s²)\n",
    "    m: 1.56,               # Mass of the UAV (kg)\n",
    "    J_x: 0.1147,           # Moment of inertia about x-axis (kg·m²) [UPDATED 02/28/2025]\n",
    "    J_y: 0.0576,           # Moment of inertia about y-axis (kg·m²) [UPDATED 02/28/2025]\n",
    "    J_z: 0.1712,           # Moment of inertia about z-axis (kg·m²) [UPDATED 02/28/2025]\n",
    "    J_xz: 0.0000,          # Product of inertia (kg·m²)             [UPDATED 10/07/2025]\n",
    "\n",
    "    S: 0.4696,             # Wing area (m²)\n",
    "    b: 1.4224,             # Wingspan (m)\n",
    "    c: 0.3302,             # Mean aerodynamic chord (m)\n",
    "\n",
    "    rho: 1.2682,           # Air density (kg/m³)\n",
    "\n",
    "    # Lift Coefficients\n",
    "    C_L_0: 0.2,            # Lift coefficient at zero AoA\n",
    "    C_L_alpha: 4.8,        # Lift curve slope (1/rad)\n",
    "    C_L_q: 2.2,            # Pitch rate effect on lift (1/rad)\n",
    "\n",
    "    # Drag Coefficients\n",
    "    C_D_0: 0.02,           # Zero-lift drag coefficient\n",
    "    C_D_alpha: 0.30,       # Drag change per AoA (1/rad)\n",
    "    C_D_q: 0.0,            # Pitch rate effect on drag (1/rad)\n",
    "    C_D_p: 0.03,           # Parasitic drag coefficient\n",
    "\n",
    "    # Pitching Moment Coefficients\n",
    "    C_m_0: -0.02,          # Pitching moment at zero AoA\n",
    "    C_m_alpha: -0.6,       # Pitching moment change per AoA (1/rad)\n",
    "    C_m_q: -1.8,           # Pitch rate effect on moment (1/rad)\n",
    "    C_m_delta_e: -0.35,    # Effect of elevator deflection on pitching moment (1/rad)\n",
    "\n",
    "    # Side Force Coefficients\n",
    "    C_Y_0: 0.0,            # Side force at zero sideslip\n",
    "    C_Y_beta: -0.08,       # Side force per sideslip angle (1/rad)\n",
    "    C_Y_p: 0.0,            # Side force due to roll rate\n",
    "    C_Y_r: 0.0,            # Side force due to yaw rate\n",
    "    C_Y_delta_a: 0.0,      # Side force due to aileron deflection\n",
    "\n",
    "    # Roll Moment Coefficients\n",
    "    C_l_0: 0.0,            # Roll moment at zero sideslip\n",
    "    C_l_beta: -0.10,       # Roll moment due to sideslip (1/rad)\n",
    "    C_l_p: -0.45,          # Roll damping derivative (1/rad)\n",
    "    C_l_r: 0.03,           # Roll moment due to yaw rate (1/rad)\n",
    "    C_l_delta_a: 0.18,     # Aileron effect on roll (1/rad)\n",
    "\n",
    "    # Yaw Moment Coefficients\n",
    "    C_n_0: 0.0,            # Yaw moment at zero sideslip\n",
    "    C_n_beta: 0.008,       # Yaw moment due to sideslip (1/rad)\n",
    "    C_n_p: -0.022,         # Yaw moment due to roll rate (1/rad)\n",
    "    C_n_r: -0.009,         # Yaw damping derivative (1/rad)\n",
    "    C_n_delta_a: -0.004,   # Aileron effect on yaw (1/rad)\n",
    "\n",
    "    # Control Derivatives\n",
    "    C_L_delta_e: 0.30,     # Effect of elevator deflection on lift (1/rad)\n",
    "    C_D_delta_e: 0.32,     # Effect of elevator deflection on drag (1/rad)\n",
    "\n",
    "    # Efficiency Factors\n",
    "    e: 0.85,               # Oswald efficiency factor\n",
    "    alpha_0: 0.45,         # Zero-lift angle of attack (rad)\n",
    "\n",
    "    # Additional Drag & Lift Coefficients\n",
    "    M: 50.0,               # Sigmoid blending function parameter\n",
    "    k_e: 0.01,             # Drag due to elevator deflection (empirical coefficient)\n",
    "    k: 0.048               # Induced drag factor\n",
    "}"
   ]
  },
  {
   "cell_type": "markdown",
   "id": "ac2be7c3",
   "metadata": {},
   "source": [
    "Compute aerodynamic forces and torques (assuming low angles of attack, so no stall)."
   ]
  },
  {
   "cell_type": "code",
   "execution_count": null,
   "id": "2e55a7b4",
   "metadata": {},
   "outputs": [],
   "source": [
    "# Get airspeed, angle of attack, and angle of sideslip\n",
    "V_a = sym.sqrt(v_x**2 + v_y**2 + v_z**2)\n",
    "alpha = sym.atan(v_z / v_x)\n",
    "beta = sym.asin(v_y / V_a)\n",
    "\n",
    "# Convert from right and left elevon deflections to equivalent elevator and aileron deflections\n",
    "delta_e = (delta_r + delta_l) / 2\n",
    "delta_a = (-delta_r + delta_l) / 2\n",
    "\n",
    "# Longitudinal aerodynamics\n",
    "C_L = C_L_0 + C_L_alpha * alpha\n",
    "F_lift = rho * V_a**2 * S * (C_L + C_L_q * (c / (2 * V_a)) * w_y + C_L_delta_e * delta_e) / 2\n",
    "F_drag = rho * V_a**2 * S * ((C_D_0 + k * C_L**2) + C_D_q * (c / (2 * V_a)) * w_y + k_e * (C_L_delta_e * delta_e)**2) / 2\n",
    "f_x, f_z = sym.Matrix([[sym.cos(alpha), -sym.sin(alpha)], [sym.sin(alpha), sym.cos(alpha)]]) @ sym.Matrix([[-F_drag], [-F_lift]])\n",
    "tau_y = rho * V_a**2 * S * c * (C_m_0 + C_m_alpha * alpha + C_m_q * (c / (2 * V_a)) * w_y + C_m_delta_e * delta_e) / 2\n",
    "\n",
    "# Lateral aerodynamics\n",
    "f_y =   rho * V_a**2 * S *     (C_Y_0 + C_Y_beta * beta + C_Y_p * (b / (2 * V_a)) * w_x + C_Y_r * (b / (2 * V_a)) * w_z + C_Y_delta_a * delta_a) / 2\n",
    "tau_x = rho * V_a**2 * S * b * (C_l_0 + C_l_beta * beta + C_l_p * (b / (2 * V_a)) * w_x + C_l_r * (b / (2 * V_a)) * w_z + C_l_delta_a * delta_a) / 2\n",
    "tau_z = rho * V_a**2 * S * b * (C_n_0 + C_n_beta * beta + C_n_p * (b / (2 * V_a)) * w_x + C_n_r * (b / (2 * V_a)) * w_z + C_n_delta_a * delta_a) / 2"
   ]
  },
  {
   "cell_type": "markdown",
   "id": "a2dc1366",
   "metadata": {},
   "source": [
    "Define the linear velocity vector $v^B_{W, B}$ and the angular velocity vector $w^B_{W, B}$ in the coordinates of the body frame."
   ]
  },
  {
   "cell_type": "code",
   "execution_count": null,
   "id": "90019c9a",
   "metadata": {},
   "outputs": [],
   "source": [
    "v_inB_ofWB = sym.Matrix([v_x, v_y, v_z])\n",
    "w_inB_ofWB = sym.Matrix([w_x, w_y, w_z])"
   ]
  },
  {
   "cell_type": "markdown",
   "id": "5228b6ce",
   "metadata": {},
   "source": [
    "Define the moment of inertia matrix in the coordinates of the body frame."
   ]
  },
  {
   "cell_type": "code",
   "execution_count": null,
   "id": "2c51e28d",
   "metadata": {},
   "outputs": [],
   "source": [
    "J_inB = sym.Matrix([[  J_x,    0, -J_xz],\n",
    "                    [    0,  J_y,     0],\n",
    "                    [-J_xz,    0,   J_z]])"
   ]
  },
  {
   "cell_type": "markdown",
   "id": "c4b2b9b3",
   "metadata": {},
   "source": [
    "Define individual rotation matrices."
   ]
  },
  {
   "cell_type": "code",
   "execution_count": null,
   "id": "abb422e6",
   "metadata": {},
   "outputs": [],
   "source": [
    "Rz = sym.Matrix([[sym.cos(psi), -sym.sin(psi), 0],\n",
    "                 [sym.sin(psi), sym.cos(psi), 0],\n",
    "                 [0, 0, 1]])\n",
    "\n",
    "Ry = sym.Matrix([[sym.cos(theta), 0, sym.sin(theta)],\n",
    "                 [0, 1, 0],\n",
    "                 [-sym.sin(theta), 0, sym.cos(theta)]])\n",
    "\n",
    "Rx = sym.Matrix([[1, 0, 0],\n",
    "                 [0, sym.cos(phi), -sym.sin(phi)],\n",
    "                 [0, sym.sin(phi), sym.cos(phi)]])"
   ]
  },
  {
   "cell_type": "markdown",
   "id": "bfe068f4",
   "metadata": {},
   "source": [
    "Apply sequential transformation to compute the rotation matrix that describes the orientation of the aircraft (i.e., of frame $B$ in the coordinates of frame $W$)."
   ]
  },
  {
   "cell_type": "code",
   "execution_count": null,
   "id": "a708cce2",
   "metadata": {},
   "outputs": [],
   "source": [
    "R_inW_ofB = Rz @ Ry @ Rx"
   ]
  },
  {
   "cell_type": "markdown",
   "id": "2d450c82",
   "metadata": {},
   "source": [
    "Compute the matrix $N$ for which\n",
    "\n",
    "$$\\begin{bmatrix} \\dot{\\psi} \\\\ \\dot{\\theta} \\\\ \\dot{\\phi} \\end{bmatrix} = N w_{W, B}^{B}.$$"
   ]
  },
  {
   "cell_type": "code",
   "execution_count": null,
   "id": "e1984caf",
   "metadata": {},
   "outputs": [],
   "source": [
    "# First, compute the inverse of N\n",
    "Ninv = sym.Matrix.hstack((Ry @ Rx).T @ sym.Matrix([0, 0, 1]),\n",
    "                              (Rx).T @ sym.Matrix([0, 1, 0]),\n",
    "                                       sym.Matrix([1, 0, 0]))\n",
    "\n",
    "# Then, take the inverse of this result to compute N\n",
    "N = sym.simplify(Ninv.inv())"
   ]
  },
  {
   "cell_type": "markdown",
   "id": "291bac9d",
   "metadata": {},
   "source": [
    "Compute the total force and torque on the aicraft in the body frame (remember that $z$ is down!)."
   ]
  },
  {
   "cell_type": "code",
   "execution_count": null,
   "id": "3603cc4f",
   "metadata": {},
   "outputs": [],
   "source": [
    "# Total force\n",
    "f_inB = R_inW_ofB.T @ sym.Matrix([0, 0, m * g]) + sym.Matrix([f_x, f_y, f_z])\n",
    "\n",
    "# Total torque\n",
    "tau_inB = sym.Matrix([tau_x, tau_y, tau_z])"
   ]
  },
  {
   "cell_type": "markdown",
   "id": "7384c6b3",
   "metadata": {},
   "source": [
    "Define (fully) symbolic equations of motion. These are complicated enough that we won't bother to show them."
   ]
  },
  {
   "cell_type": "code",
   "execution_count": null,
   "id": "14326c7d",
   "metadata": {},
   "outputs": [],
   "source": [
    "f_sym = sym.Matrix.vstack(\n",
    "    R_inW_ofB @ v_inB_ofWB,\n",
    "    N @ w_inB_ofWB,\n",
    "    (1 / m) * (f_inB - w_inB_ofWB.cross(m * v_inB_ofWB)),\n",
    "    J_inB.inv() @ (tau_inB - w_inB_ofWB.cross(J_inB @ w_inB_ofWB)),\n",
    ")"
   ]
  },
  {
   "cell_type": "markdown",
   "id": "1124881c",
   "metadata": {},
   "source": [
    "Remove $p_x$ and $p_z$ from the equations of motion."
   ]
  },
  {
   "cell_type": "code",
   "execution_count": null,
   "id": "6cf9f8cb",
   "metadata": {},
   "outputs": [],
   "source": [
    "f_sym = f_sym[[1, 3, 4, 5, 6, 7, 8, 9, 10, 11], 0]"
   ]
  },
  {
   "cell_type": "markdown",
   "id": "3943b6f1",
   "metadata": {},
   "source": [
    "Substitute numerical values for each parameter. The only symbols that remain in these equations of motion are the (nonlinear) states and inputs. Again, these equations of motion are complicated, so we won't bother to show them. They have the following form:\n",
    "\n",
    "$$\n",
    "\\begin{bmatrix} \\dot{p}_y \\\\ \\dot{\\psi} \\\\ \\dot{\\theta} \\\\ \\dot{\\phi} \\\\ \\dot{v}_x \\\\ \\dot{v}_y \\\\ \\dot{v}_z \\\\ \\dot{w}_x \\\\ \\dot{w}_y \\\\ \\dot{w}_z \\end{bmatrix}\n",
    "=\n",
    "f\\left(\n",
    "\\begin{bmatrix} p_y \\\\ \\psi \\\\ \\theta \\\\ \\phi \\\\ v_x \\\\ v_y \\\\ v_z \\\\ w_x \\\\ w_y \\\\ w_z \\end{bmatrix},\n",
    "\\begin{bmatrix} \\delta_r \\\\ \\delta_l \\end{bmatrix}\n",
    "\\right).\n",
    "$$\n",
    "\n",
    "In our code, we denote the function $f$ by `f_sym` (where \"`sym`\" stands for \"symbolic\") so that we can later distinguish it from a numeric version of the same function. Remember that you should only use sympy when working with `f_sym`."
   ]
  },
  {
   "cell_type": "code",
   "execution_count": null,
   "id": "fa92b4e7",
   "metadata": {},
   "outputs": [],
   "source": [
    "f_sym = f_sym.subs(params)"
   ]
  },
  {
   "cell_type": "markdown",
   "id": "3478fc45",
   "metadata": {},
   "source": [
    "Create a numeric version `f_num` of the same function $f$ that accepts a 1-D array of state and input values (total length 12) and returns a 1-D array that has each element of $f$ evaluated at these state and input values (total length 10). Remember that you should only use numpy or scipy when working with `f_num`."
   ]
  },
  {
   "cell_type": "code",
   "execution_count": null,
   "id": "c46e53ba",
   "metadata": {},
   "outputs": [],
   "source": [
    "# First, create a function that accepts 12 arguments and returns a\n",
    "# 2-D array that has each element of f\n",
    "f_tmp = sym.lambdify([p_y, psi, theta, phi, v_x, v_y, v_z, w_x, w_y, w_z, delta_r, delta_l], f_sym)\n",
    "\n",
    "# Second, modify this function so that it accepts 1 argument (a 1-D array\n",
    "# of total length 12) and returns a 1-D array that has each element of f\n",
    "f_num = lambda x: f_tmp(*x).flatten().astype(float)"
   ]
  },
  {
   "cell_type": "markdown",
   "id": "029babc5",
   "metadata": {},
   "source": [
    "Evaluate `f_num` at particular state and input values, as an example."
   ]
  },
  {
   "cell_type": "code",
   "execution_count": null,
   "id": "1c1f9332",
   "metadata": {},
   "outputs": [],
   "source": [
    "f_num([\n",
    "    1.,     # p_y\n",
    "    2.,     # psi\n",
    "    3.,     # theta\n",
    "    4.,     # phi\n",
    "    5.,     # v_x\n",
    "    6.,     # v_y\n",
    "    7.,     # v_z\n",
    "    8.,     # w_x\n",
    "    9.,     # w_y\n",
    "    10.,    # w_z\n",
    "    11.,    # delta_r\n",
    "    12.,    # delta_l\n",
    "])"
   ]
  }
 ],
 "metadata": {
  "kernelspec": {
   "display_name": "ae353",
   "language": "python",
   "name": "python3"
  },
  "language_info": {
   "codemirror_mode": {
    "name": "ipython",
    "version": 3
   },
   "file_extension": ".py",
   "mimetype": "text/x-python",
   "name": "python",
   "nbconvert_exporter": "python",
   "pygments_lexer": "ipython3",
   "version": "3.13.5"
  }
 },
 "nbformat": 4,
 "nbformat_minor": 5
}
