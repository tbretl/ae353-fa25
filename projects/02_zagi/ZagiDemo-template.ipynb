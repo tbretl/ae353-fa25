{
 "cells": [
  {
   "cell_type": "markdown",
   "id": "d5a9b7c5",
   "metadata": {},
   "source": [
    "# Simulation of a \"zagi-like\" flying wing UAV"
   ]
  },
  {
   "cell_type": "markdown",
   "id": "working-minority",
   "metadata": {},
   "source": [
    "Import modules and configure the notebook."
   ]
  },
  {
   "cell_type": "code",
   "execution_count": null,
   "id": "dimensional-contamination",
   "metadata": {},
   "outputs": [],
   "source": [
    "# These modules are part of other existing libraries\n",
    "import numpy as np\n",
    "import matplotlib.pyplot as plt\n",
    "\n",
    "# This is my own script (it is an interface to the pybullet simulator)\n",
    "import ae353_zagi"
   ]
  },
  {
   "cell_type": "markdown",
   "id": "02b723c8",
   "metadata": {},
   "source": [
    "Create an instance of the `Simulator` class, which is an interface to the [pybullet](http://pybullet.org) simulation engine."
   ]
  },
  {
   "cell_type": "code",
   "execution_count": null,
   "id": "359ab3ab",
   "metadata": {},
   "outputs": [],
   "source": [
    "simulator = ae353_zagi.Simulator(\n",
    "    display=True,       # Whether or not to show the simulation window. The simulation will\n",
    "                        # run much faster if you do not show this window, so set display to\n",
    "                        # False if you want to run many simulations to collect results.\n",
    ")"
   ]
  },
  {
   "cell_type": "markdown",
   "id": "c1a0f224",
   "metadata": {},
   "source": [
    "Choose a camera view from the following options:\n",
    "* `camera_launchview()`\n",
    "* `camera_landview()`\n",
    "* `camera_catview()`\n",
    "\n",
    "The \"cat view\" follows the aircraft in flight. You may see the simulation window flicker when using this option. We suggest that you only use it when capturing video (you won't see any flickering in the video that is saved)."
   ]
  },
  {
   "cell_type": "code",
   "execution_count": null,
   "id": "96875836",
   "metadata": {},
   "outputs": [],
   "source": [
    "simulator.camera_launchview()"
   ]
  },
  {
   "cell_type": "markdown",
   "id": "75738c69",
   "metadata": {},
   "source": [
    "Define a controller that maps sensor measurements to actuator commands. By default, it chooses zero elevon deflection angles. Modify the `run` function to make the controller behave differently. This function will be called 100 times per second (i.e., at 100 Hz) by the simulator."
   ]
  },
  {
   "cell_type": "code",
   "execution_count": null,
   "id": "e8164ad0",
   "metadata": {},
   "outputs": [],
   "source": [
    "class Controller:\n",
    "    def __init__(self):\n",
    "        pass\n",
    "    \n",
    "    def reset(self):\n",
    "        pass\n",
    "    \n",
    "    def run(\n",
    "            self,\n",
    "            t,                      # current time\n",
    "            p_x, p_y, p_z,          # components of position (+z is down!)\n",
    "            psi, theta, phi,        # yaw, pitch, and roll angles\n",
    "            v_x, v_y, v_z,          # components of linear velocity in the body frame\n",
    "            w_x, w_y, w_z,          # components of angular velocity in the body frame\n",
    "        ):\n",
    "        \n",
    "        # FIXME: replace the following lines\n",
    "        delta_r = 0.                # right elevon deflection angle (positive is down)\n",
    "        delta_l = 0.                # left elevon deflection angle (positive is down)\n",
    "        \n",
    "        return delta_r, delta_l"
   ]
  },
  {
   "cell_type": "markdown",
   "id": "bc096551",
   "metadata": {},
   "source": [
    "Create an instance of the controller."
   ]
  },
  {
   "cell_type": "code",
   "execution_count": null,
   "id": "93300860",
   "metadata": {},
   "outputs": [],
   "source": [
    "controller = Controller()"
   ]
  },
  {
   "cell_type": "markdown",
   "id": "bcf56b66",
   "metadata": {},
   "source": [
    "Reset the simulator with given initial conditions (example)."
   ]
  },
  {
   "cell_type": "code",
   "execution_count": null,
   "id": "cf8a455d",
   "metadata": {},
   "outputs": [],
   "source": [
    "simulator.reset(\n",
    "    initial_conditions = {\n",
    "        'p_x':   0.,\n",
    "        'p_y':   0.,\n",
    "        'p_z':   0.,\n",
    "        'psi':   0.,\n",
    "        'theta': 0.,\n",
    "        'phi':   0.,\n",
    "        'v_x':   5.,\n",
    "        'v_y':   0.,\n",
    "        'v_z':   0.,\n",
    "        'w_x':   0.,\n",
    "        'w_y':   0.,\n",
    "        'w_z':   0.,\n",
    "    }\n",
    ")"
   ]
  },
  {
   "cell_type": "markdown",
   "id": "d8816574",
   "metadata": {},
   "source": [
    "Reset the simulator with random initial conditions (example)."
   ]
  },
  {
   "cell_type": "code",
   "execution_count": null,
   "id": "4c98b6eb",
   "metadata": {},
   "outputs": [],
   "source": [
    "simulator.reset()"
   ]
  },
  {
   "cell_type": "markdown",
   "id": "74613036",
   "metadata": {},
   "source": [
    "Reset the controller."
   ]
  },
  {
   "cell_type": "code",
   "execution_count": null,
   "id": "9a0fa5ff",
   "metadata": {},
   "outputs": [],
   "source": [
    "controller.reset()"
   ]
  },
  {
   "cell_type": "markdown",
   "id": "c326b31f",
   "metadata": {},
   "source": [
    "Run the simulator. You'll need to change `maximum_time` in order to give the aircraft enough time to land safely."
   ]
  },
  {
   "cell_type": "code",
   "execution_count": null,
   "id": "2828993d",
   "metadata": {},
   "outputs": [],
   "source": [
    "data = simulator.run(\n",
    "    controller,           # <-- required (an instance of your Controller class)\n",
    "    maximum_time=5.,      # <-- optional (how long you want to run the simulation in seconds)\n",
    "    data_filename=None,   # <-- optional (save data to this file, e.g., 'my_data.json')\n",
    "    video_filename=None,  # <-- optional (save video to this file, e.g., 'my_video.mov')\n",
    ")"
   ]
  },
  {
   "cell_type": "markdown",
   "id": "4903f4b6",
   "metadata": {},
   "source": [
    "Check if the aircraft has landed."
   ]
  },
  {
   "cell_type": "code",
   "execution_count": null,
   "id": "6e6a478a",
   "metadata": {},
   "outputs": [],
   "source": [
    "has_landed = simulator.has_landed()\n",
    "if has_landed:\n",
    "    print('The aircraft landed safely.')\n",
    "else:\n",
    "    print('The aircraft did not land safely.')"
   ]
  },
  {
   "cell_type": "markdown",
   "id": "601a7926",
   "metadata": {},
   "source": [
    "Get, show, and save a snapshot of the simulation after the last time step."
   ]
  },
  {
   "cell_type": "code",
   "execution_count": null,
   "id": "0cff3241",
   "metadata": {},
   "outputs": [],
   "source": [
    "# Get snapshot as height x width x 4 numpy array of RGBA values\n",
    "rgba = simulator.snapshot()\n",
    "\n",
    "# Display snapshot\n",
    "plt.figure(figsize=(8, 8))\n",
    "plt.imshow(rgba)\n",
    "\n",
    "# Save snapshot\n",
    "plt.imsave('my_snapshot.png', rgba)"
   ]
  },
  {
   "cell_type": "markdown",
   "id": "58c95e55",
   "metadata": {},
   "source": [
    "Plot the results."
   ]
  },
  {
   "cell_type": "code",
   "execution_count": null,
   "id": "0ff24bb2",
   "metadata": {},
   "outputs": [],
   "source": [
    "# Create a figure with five subplots, all of which share the same x-axis\n",
    "fig, (\n",
    "    ax_pos,\n",
    "    ax_ori,\n",
    "    ax_linvel,\n",
    "    ax_angvel,\n",
    "    ax_delta,\n",
    ") = plt.subplots(5, 1, figsize=(8, 8), sharex=True)\n",
    "\n",
    "# Plot position\n",
    "ax_pos.plot(data['t'], data['p_x'], label='p_x (m)', linewidth=4)\n",
    "ax_pos.plot(data['t'], data['p_y'], label='p_y (m)', linewidth=4)\n",
    "ax_pos.plot(data['t'], data['p_z'], label='p_z (m)', linewidth=4)\n",
    "ax_pos.grid()\n",
    "ax_pos.legend(fontsize=16)\n",
    "ax_pos.tick_params(labelsize=14)\n",
    "\n",
    "# Plot orientation\n",
    "ax_ori.plot(data['t'], data['psi'], label='psi (rad)', linewidth=4)\n",
    "ax_ori.plot(data['t'], data['theta'], label='theta (rad)', linewidth=4)\n",
    "ax_ori.plot(data['t'], data['phi'], label='phi (rad)', linewidth=4)\n",
    "ax_ori.grid()\n",
    "ax_ori.legend(fontsize=16)\n",
    "ax_ori.tick_params(labelsize=14)\n",
    "\n",
    "# Plot linear velocity\n",
    "ax_linvel.plot(data['t'], data['v_x'], label='v_x (m/s)', linewidth=4)\n",
    "ax_linvel.plot(data['t'], data['v_y'], label='v_y (m/s)', linewidth=4)\n",
    "ax_linvel.plot(data['t'], data['v_z'], label='v_z (m/s)', linewidth=4)\n",
    "ax_linvel.grid()\n",
    "ax_linvel.legend(fontsize=16)\n",
    "ax_linvel.tick_params(labelsize=14)\n",
    "\n",
    "# Plot angular velocity\n",
    "ax_angvel.plot(data['t'], data['w_x'], label='w_x (m/s)', linewidth=4)\n",
    "ax_angvel.plot(data['t'], data['w_y'], label='w_y (m/s)', linewidth=4)\n",
    "ax_angvel.plot(data['t'], data['w_z'], label='w_z (m/s)', linewidth=4)\n",
    "ax_angvel.grid()\n",
    "ax_angvel.legend(fontsize=16)\n",
    "ax_angvel.tick_params(labelsize=14)\n",
    "\n",
    "# Plot elevon deflection angles\n",
    "ax_delta.plot(data['t'], data['delta_r_command'], label='delta_r command (rad)', linewidth=4)\n",
    "ax_delta.plot(data['t'], data['delta_l_command'], label='delta_l command (rad)', linewidth=4)\n",
    "ax_delta.plot(data['t'], data['delta_r'], '--', color='C0', label='delta_r (rad)', linewidth=4)\n",
    "ax_delta.plot(data['t'], data['delta_l'], '--', color='C1', label='delta_l (rad)', linewidth=4)\n",
    "ax_delta.plot(\n",
    "    data['t'], -np.ones_like(data['t']) * simulator.maximum_elevon_deflection,\n",
    "    ':', linewidth=4, color='C4', zorder=0,\n",
    ")\n",
    "ax_delta.plot(\n",
    "    data['t'], np.ones_like(data['t']) * simulator.maximum_elevon_deflection,\n",
    "    ':', linewidth=4, color='C4', zorder=0,\n",
    ")\n",
    "ax_delta.grid()\n",
    "ax_delta.legend(fontsize=16)\n",
    "ax_delta.tick_params(labelsize=14)\n",
    "ax_delta.set_ylim(\n",
    "    -1.2 * simulator.maximum_elevon_deflection,\n",
    "    1.2 * simulator.maximum_elevon_deflection,\n",
    ")\n",
    "\n",
    "# Set x-axis properties (only need to do this on the last\n",
    "# subplot since all subplots share the same x-axis)\n",
    "ax_delta.set_xlabel('time (s)', fontsize=20)\n",
    "ax_delta.set_xlim([data['t'][0], data['t'][-1]])\n",
    "\n",
    "# Make the arrangement of subplots look nice\n",
    "fig.tight_layout()"
   ]
  },
  {
   "cell_type": "markdown",
   "id": "407559d4",
   "metadata": {},
   "source": [
    "Save the figure (without transparent background). Remember that you will likely want to change the file format from `png` to `pdf` (i.e., change `my_figure.png` to `my_figure.pdf` in the line of code below) if you want to include the figure in your report."
   ]
  },
  {
   "cell_type": "code",
   "execution_count": null,
   "id": "5d3c1b22",
   "metadata": {},
   "outputs": [],
   "source": [
    "fig.savefig('my_figure.png', facecolor='white', transparent=False)"
   ]
  }
 ],
 "metadata": {
  "kernelspec": {
   "display_name": "ae353",
   "language": "python",
   "name": "python3"
  },
  "language_info": {
   "codemirror_mode": {
    "name": "ipython",
    "version": 3
   },
   "file_extension": ".py",
   "mimetype": "text/x-python",
   "name": "python",
   "nbconvert_exporter": "python",
   "pygments_lexer": "ipython3",
   "version": "3.13.5"
  }
 },
 "nbformat": 4,
 "nbformat_minor": 5
}
