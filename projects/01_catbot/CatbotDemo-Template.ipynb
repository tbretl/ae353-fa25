{
 "cells": [
  {
   "cell_type": "markdown",
   "id": "middle-acoustic",
   "metadata": {},
   "source": [
    "# Wheeled cat-catching robot (i.e., the \"catbot\")"
   ]
  },
  {
   "cell_type": "markdown",
   "id": "working-minority",
   "metadata": {},
   "source": [
    "Import modules and configure the notebook."
   ]
  },
  {
   "cell_type": "code",
   "execution_count": null,
   "id": "dimensional-contamination",
   "metadata": {},
   "outputs": [],
   "source": [
    "# These modules are part of other existing libraries\n",
    "import numpy as np\n",
    "import matplotlib.pyplot as plt\n",
    "\n",
    "# This is my own script (it is an interface to the pybullet simulator)\n",
    "import ae353_catbot"
   ]
  },
  {
   "cell_type": "markdown",
   "id": "02b723c8",
   "metadata": {},
   "source": [
    "Create an instance of the `Simulator` class, which is an interface to the [pybullet](http://pybullet.org) simulation engine.\n",
    "\n",
    "There are three optional arguments:\n",
    "\n",
    "* `display` (`True` or `False`) is whether or not to show the simulation window;\n",
    "* `sound` (`True` or `False`) is whether or not to play sounds;\n",
    "* `launch_cat` (`True` or `False`) is whether or not to launch a cat."
   ]
  },
  {
   "cell_type": "code",
   "execution_count": null,
   "id": "359ab3ab",
   "metadata": {},
   "outputs": [],
   "source": [
    "simulator = ae353_catbot.Simulator(\n",
    "    display=True,\n",
    "    sound=True,\n",
    "    launch_cat=True,\n",
    ")"
   ]
  },
  {
   "cell_type": "markdown",
   "id": "c1a0f224",
   "metadata": {},
   "source": [
    "Choose a camera view from the following options:\n",
    "* `camera_sideview()`\n",
    "* `camera_wideview()`\n",
    "* `camera_topview()`\n",
    "* `camera_catview()`"
   ]
  },
  {
   "cell_type": "code",
   "execution_count": null,
   "id": "96875836",
   "metadata": {},
   "outputs": [],
   "source": [
    "simulator.camera_sideview()"
   ]
  },
  {
   "cell_type": "markdown",
   "id": "75738c69",
   "metadata": {},
   "source": [
    "Define a controller that maps sensor measurements to actuator commands. By default, it chooses to apply zero torque to the wheels. Modify the `run` function to make the controller behave differently. This function will be called 100 times per second (i.e., at 100 Hz) by the simulator."
   ]
  },
  {
   "cell_type": "code",
   "execution_count": null,
   "id": "e8164ad0",
   "metadata": {},
   "outputs": [],
   "source": [
    "class Controller:\n",
    "    def __init__(self):\n",
    "        pass\n",
    "    \n",
    "    def reset(self):\n",
    "        pass\n",
    "    \n",
    "    def run(\n",
    "            self,\n",
    "            t,\n",
    "            wheel_position,\n",
    "            wheel_velocity,\n",
    "            pitch_angle,\n",
    "            pitch_rate,\n",
    "        ):\n",
    "        \n",
    "        # FIXME: replace the following line\n",
    "        wheel_torque = 0.\n",
    "        \n",
    "        return wheel_torque"
   ]
  },
  {
   "cell_type": "markdown",
   "id": "bc096551",
   "metadata": {},
   "source": [
    "Create an instance of the controller."
   ]
  },
  {
   "cell_type": "code",
   "execution_count": null,
   "id": "93300860",
   "metadata": {},
   "outputs": [],
   "source": [
    "controller = Controller()"
   ]
  },
  {
   "cell_type": "markdown",
   "id": "bcf56b66",
   "metadata": {},
   "source": [
    "Reset the simulator with given initial conditions (example)."
   ]
  },
  {
   "cell_type": "code",
   "execution_count": null,
   "id": "cf8a455d",
   "metadata": {},
   "outputs": [],
   "source": [
    "simulator.reset(\n",
    "    initial_conditions = {\n",
    "        'wheel_position': 0.,\n",
    "        'wheel_velocity': 0.,\n",
    "        'pitch_angle': 0.,\n",
    "        'pitch_rate': 0.,\n",
    "    }\n",
    ")"
   ]
  },
  {
   "cell_type": "markdown",
   "id": "60bb5168",
   "metadata": {},
   "source": [
    "Reset the simulator with random initial conditions (example)."
   ]
  },
  {
   "cell_type": "code",
   "execution_count": null,
   "id": "8bb04e98",
   "metadata": {},
   "outputs": [],
   "source": [
    "simulator.reset()"
   ]
  },
  {
   "cell_type": "markdown",
   "id": "74613036",
   "metadata": {},
   "source": [
    "Reset the controller."
   ]
  },
  {
   "cell_type": "code",
   "execution_count": null,
   "id": "9a0fa5ff",
   "metadata": {},
   "outputs": [],
   "source": [
    "controller.reset()"
   ]
  },
  {
   "cell_type": "markdown",
   "id": "c326b31f",
   "metadata": {},
   "source": [
    "Run the simulator."
   ]
  },
  {
   "cell_type": "code",
   "execution_count": null,
   "id": "2828993d",
   "metadata": {},
   "outputs": [],
   "source": [
    "data = simulator.run(\n",
    "    controller,           # <-- required (an instance of your Controller class)\n",
    "    maximum_time=25.,     # <-- optional (how long you want to run the simulation in seconds)\n",
    "    data_filename=None,   # <-- optional (save data to this file, e.g., 'my_data.json')\n",
    "    video_filename=None,  # <-- optional (save video to this file, e.g., 'my_video.mov')\n",
    ")"
   ]
  },
  {
   "cell_type": "markdown",
   "id": "4903f4b6",
   "metadata": {},
   "source": [
    "Check if a cat was saved."
   ]
  },
  {
   "cell_type": "code",
   "execution_count": null,
   "id": "6e6a478a",
   "metadata": {},
   "outputs": [],
   "source": [
    "did_save_cat = simulator.did_save_cat()\n",
    "if did_save_cat:\n",
    "    print(f'A cat was saved!')\n",
    "else:\n",
    "    print(f'No cat was saved.')"
   ]
  },
  {
   "cell_type": "markdown",
   "id": "601a7926",
   "metadata": {},
   "source": [
    "Get, show, and save a snapshot of the simulation after the last time step."
   ]
  },
  {
   "cell_type": "code",
   "execution_count": null,
   "id": "0cff3241",
   "metadata": {},
   "outputs": [],
   "source": [
    "# Get snapshot as height x width x 4 numpy array of RGBA values\n",
    "rgba = simulator.snapshot()\n",
    "\n",
    "# Display snapshot\n",
    "plt.figure(figsize=(8, 8))\n",
    "plt.imshow(rgba)\n",
    "\n",
    "# Save snapshot\n",
    "plt.imsave('my_snapshot.png', rgba)"
   ]
  },
  {
   "cell_type": "markdown",
   "id": "58c95e55",
   "metadata": {},
   "source": [
    "Plot the results."
   ]
  },
  {
   "cell_type": "code",
   "execution_count": null,
   "id": "0ff24bb2",
   "metadata": {},
   "outputs": [],
   "source": [
    "# Create a figure with five subplots, all of which share the same x-axis\n",
    "fig, (\n",
    "    ax_wheel_position,\n",
    "    ax_wheel_velocity,\n",
    "    ax_pitch_angle,\n",
    "    ax_pitch_rate,\n",
    "    ax_wheel_torque,\n",
    ") = plt.subplots(5, 1, figsize=(8, 8), sharex=True)\n",
    "\n",
    "# Plot wheel position\n",
    "ax_wheel_position.plot(\n",
    "    data['t'], data['wheel_position'],\n",
    "    label='wheel_position (m)', linewidth=4,\n",
    ")\n",
    "ax_wheel_position.grid()\n",
    "ax_wheel_position.legend(fontsize=16)\n",
    "ax_wheel_position.tick_params(labelsize=14)\n",
    "\n",
    "# Plot wheel velocity\n",
    "ax_wheel_velocity.plot(\n",
    "    data['t'], data['wheel_velocity'],\n",
    "    label='wheel_velocity (m)', linewidth=4,\n",
    ")\n",
    "ax_wheel_velocity.grid()\n",
    "ax_wheel_velocity.legend(fontsize=16)\n",
    "ax_wheel_velocity.tick_params(labelsize=14)\n",
    "\n",
    "# Plot pitch angle\n",
    "ax_pitch_angle.plot(\n",
    "    data['t'], data['pitch_angle'],\n",
    "    label='pitch_angle (rad)', linewidth=4,\n",
    ")\n",
    "ax_pitch_angle.grid()\n",
    "ax_pitch_angle.legend(fontsize=16)\n",
    "ax_pitch_angle.tick_params(labelsize=14)\n",
    "\n",
    "# Plot pitch rate\n",
    "ax_pitch_rate.plot(\n",
    "    data['t'], data['pitch_rate'],\n",
    "    label='pitch_rate (rad)', linewidth=4,\n",
    ")\n",
    "ax_pitch_rate.grid()\n",
    "ax_pitch_rate.legend(fontsize=16)\n",
    "ax_pitch_rate.tick_params(labelsize=14)\n",
    "\n",
    "# Plot wheel torque\n",
    "ax_wheel_torque.plot(\n",
    "    data['t'], data['wheel_torque_command'],\n",
    "    label='wheel torque command (N-m)', linewidth=4,\n",
    ")\n",
    "ax_wheel_torque.plot(\n",
    "    data['t'], data['wheel_torque'],\n",
    "    '--', label='wheel torque (N-m)', linewidth=4,\n",
    ")\n",
    "ax_wheel_torque.plot(\n",
    "    data['t'], -np.ones_like(data['t']) * simulator.maximum_wheel_torque,\n",
    "    ':', linewidth=4, color='C4', zorder=0,\n",
    ")\n",
    "ax_wheel_torque.plot(\n",
    "    data['t'], np.ones_like(data['t']) * simulator.maximum_wheel_torque,\n",
    "    ':', linewidth=4, color='C4', zorder=0,\n",
    ")\n",
    "ax_wheel_torque.grid()\n",
    "ax_wheel_torque.legend(fontsize=16)\n",
    "ax_wheel_torque.tick_params(labelsize=14)\n",
    "ax_wheel_torque.set_ylim(\n",
    "    -1.2 * simulator.maximum_wheel_torque,\n",
    "    1.2 * simulator.maximum_wheel_torque,\n",
    ")\n",
    "\n",
    "# Set x-axis properties (only need to do this on the last\n",
    "# subplot since all subplots share the same x-axis)\n",
    "ax_wheel_torque.set_xlabel('time (s)', fontsize=20)\n",
    "ax_wheel_torque.set_xlim([data['t'][0], data['t'][-1]])\n",
    "\n",
    "# Make the arrangement of subplots look nice\n",
    "fig.tight_layout()"
   ]
  },
  {
   "cell_type": "markdown",
   "id": "407559d4",
   "metadata": {},
   "source": [
    "Save the figure (without transparent background)."
   ]
  },
  {
   "cell_type": "code",
   "execution_count": null,
   "id": "5d3c1b22",
   "metadata": {},
   "outputs": [],
   "source": [
    "fig.savefig('my_figure.png', facecolor='white', transparent=False)"
   ]
  }
 ],
 "metadata": {
  "kernelspec": {
   "display_name": "ae353",
   "language": "python",
   "name": "python3"
  },
  "language_info": {
   "codemirror_mode": {
    "name": "ipython",
    "version": 3
   },
   "file_extension": ".py",
   "mimetype": "text/x-python",
   "name": "python",
   "nbconvert_exporter": "python",
   "pygments_lexer": "ipython3",
   "version": "3.13.5"
  }
 },
 "nbformat": 4,
 "nbformat_minor": 5
}
