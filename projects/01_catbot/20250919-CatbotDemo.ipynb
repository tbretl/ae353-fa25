{
 "cells": [
  {
   "cell_type": "markdown",
   "id": "middle-acoustic",
   "metadata": {},
   "source": [
    "# Wheeled cat-catching robot (i.e., the \"catbot\")"
   ]
  },
  {
   "cell_type": "markdown",
   "id": "a077c553",
   "metadata": {},
   "source": [
    "## Derive equations of motion"
   ]
  },
  {
   "cell_type": "markdown",
   "id": "3d882f9d",
   "metadata": {},
   "source": [
    "Do imports."
   ]
  },
  {
   "cell_type": "code",
   "execution_count": 1,
   "id": "8b439d23",
   "metadata": {},
   "outputs": [],
   "source": [
    "import sympy as sym\n",
    "import numpy as np\n",
    "from IPython.display import display, Markdown\n",
    "from sympy.physics import mechanics\n",
    "mechanics.init_vprinting()"
   ]
  },
  {
   "cell_type": "markdown",
   "id": "c22c461b",
   "metadata": {},
   "source": [
    "Define variables and constants as symbols."
   ]
  },
  {
   "cell_type": "code",
   "execution_count": 2,
   "id": "2f367c2f",
   "metadata": {},
   "outputs": [],
   "source": [
    "# Time\n",
    "t = sym.Symbol('t')\n",
    "\n",
    "# Horizontal position of wheel axle\n",
    "zeta = mechanics.dynamicsymbols('zeta', real=True)\n",
    "\n",
    "# Angle of body from vertical (positive means leaning forward)\n",
    "theta = mechanics.dynamicsymbols('theta', real=True)\n",
    "\n",
    "# Torque applied by the body on the wheel\n",
    "tau = sym.symbols('tau', real=True)\n",
    "\n",
    "# Wheel parameters\n",
    "#   m_w  mass\n",
    "#   J_w  moment of inertia\n",
    "#   r_w  radius\n",
    "m_w, J_w, r_w = sym.symbols('m_w, J_w, r_w', real=True, positive=True)\n",
    "\n",
    "# Body parameters\n",
    "#   m_b  mass\n",
    "#   J_b  moment of inertia (about center-of-mass)\n",
    "#   r_b  distance between wheel axle and body center-of-mass\n",
    "m_b, J_b, r_b = sym.symbols('m_b, J_b, r_b', real=True, positive=True)\n",
    "\n",
    "# Acceleration of gravity\n",
    "g = sym.symbols('g', real=True, positive=True)"
   ]
  },
  {
   "cell_type": "markdown",
   "id": "42a2e4c6",
   "metadata": {},
   "source": [
    "Compute Lagrangian."
   ]
  },
  {
   "cell_type": "code",
   "execution_count": 3,
   "id": "6f2ebda6",
   "metadata": {},
   "outputs": [],
   "source": [
    "# Position of wheel and body\n",
    "p_w = sym.Matrix([zeta, r_w])\n",
    "p_b = sym.Matrix([zeta + r_b * sym.sin(theta), r_w + r_b * sym.cos(theta)])\n",
    "\n",
    "# Linear velocity of wheel and body\n",
    "v_w = p_w.diff(t)\n",
    "v_b = p_b.diff(t)\n",
    "\n",
    "# Angular velocity of wheel (assume rolling without slipping on flat ground) and body\n",
    "omega_w = zeta.diff(t) / r_w\n",
    "omega_b = theta.diff(t)\n",
    "\n",
    "# Kinetic and potential energy\n",
    "T = (m_w * v_w.dot(v_w) + m_b * v_b.dot(v_b) + J_w * omega_w**2 + J_b * omega_b**2) / 2\n",
    "V = (m_w * p_w[1] * g) + (m_b * p_b[1] * g)\n",
    "\n",
    "# Lagrangian\n",
    "L = sym.Matrix([sym.simplify(T - V)])"
   ]
  },
  {
   "cell_type": "markdown",
   "id": "4bf509ea",
   "metadata": {},
   "source": [
    "Compute and show the matrices $M(q)$, $N(q, \\dot{q})$, and $F(q)$ for which the equations of motion can be expressed as\n",
    "\n",
    "$$ M(q) \\ddot{q} + N(q, \\dot{q}) = F(q) r $$\n",
    "\n",
    "where\n",
    "\n",
    "$$ q = \\begin{bmatrix} \\zeta \\\\ \\theta \\end{bmatrix} \\qquad\\text{and}\\qquad r = \\begin{bmatrix} \\tau \\end{bmatrix}. $$"
   ]
  },
  {
   "cell_type": "code",
   "execution_count": 4,
   "id": "e958edb1",
   "metadata": {},
   "outputs": [
    {
     "data": {
      "text/markdown": [
       "$$ M(q) = \\left[\\begin{matrix}\\frac{J_{w}}{r_{w}^{2}} + m_{b} + m_{w} & m_{b} r_{b} \\cos{\\left(\\theta \\right)}\\\\m_{b} r_{b} \\cos{\\left(\\theta \\right)} & J_{b} + m_{b} r_{b}^{2}\\end{matrix}\\right] $$"
      ],
      "text/plain": [
       "<IPython.core.display.Markdown object>"
      ]
     },
     "metadata": {},
     "output_type": "display_data"
    },
    {
     "data": {
      "text/markdown": [
       "$$ N(q, \\dot{q}) = \\left[\\begin{matrix}- m_{b} r_{b} \\sin{\\left(\\theta \\right)} \\dot{\\theta}^{2}\\\\- g m_{b} r_{b} \\sin{\\left(\\theta \\right)}\\end{matrix}\\right] $$"
      ],
      "text/plain": [
       "<IPython.core.display.Markdown object>"
      ]
     },
     "metadata": {},
     "output_type": "display_data"
    },
    {
     "data": {
      "text/markdown": [
       "$$ F(q) = \\left[\\begin{matrix}\\frac{1}{r_{w}}\\\\-1\\end{matrix}\\right] $$"
      ],
      "text/plain": [
       "<IPython.core.display.Markdown object>"
      ]
     },
     "metadata": {},
     "output_type": "display_data"
    }
   ],
   "source": [
    "# Generalized coordinates\n",
    "q = sym.Matrix([zeta, theta])\n",
    "\n",
    "# Generalized velocities\n",
    "v = q.diff(t)\n",
    "\n",
    "# Coefficients in the equations of motion\n",
    "M = sym.simplify(L.jacobian(v).jacobian(v))\n",
    "N = sym.simplify(L.jacobian(v).jacobian(q) @ v - L.jacobian(q).T)\n",
    "F = sym.simplify(sym.Matrix([(zeta / r_w) - theta]).jacobian(q).T)\n",
    "\n",
    "# Show results\n",
    "display(Markdown(f'$$ M(q) = {mechanics.mlatex(M)} $$'))\n",
    "display(Markdown(f'$$ N(q, \\\\dot{{q}}) = {mechanics.mlatex(N)} $$'))\n",
    "display(Markdown(f'$$ F(q) = {mechanics.mlatex(F)} $$'))"
   ]
  },
  {
   "cell_type": "markdown",
   "id": "7d4bbfcb",
   "metadata": {},
   "source": [
    "Define and show the numerical value of constants (consistant with the URDF file)."
   ]
  },
  {
   "cell_type": "code",
   "execution_count": null,
   "id": "b032a213",
   "metadata": {},
   "outputs": [
    {
     "data": {
      "text/markdown": [
       "$$ \\begin{align*}r_w &= 0.5 \\\\ m_w &= 4.0 \\\\ J_w &= 0.5 \\\\ r_b &= 0.15 \\\\ m_b &= 12.0 \\\\ J_b &= 1.25 \\\\ g &= 9.81 \\end{align*} $$"
      ],
      "text/plain": [
       "<IPython.core.display.Markdown object>"
      ]
     },
     "metadata": {},
     "output_type": "display_data"
    }
   ],
   "source": [
    "##########################################\n",
    "# Temporary variables that can be ignored\n",
    "\n",
    "# Dimensions of chassis\n",
    "dx = 0.5\n",
    "dy = 0.5\n",
    "dz = 1.0\n",
    "\n",
    "# Distance between axle and COM of chassis\n",
    "h = 0.15\n",
    "\n",
    "# Half-distance between wheels\n",
    "a = 0.375\n",
    "\n",
    "# Mass of chassis\n",
    "mb = 12.\n",
    "\n",
    "# MOI of chassis\n",
    "Jbx = (mb / 12) * (dy**2 + dz**2)\n",
    "Jby = (mb / 12) * (dx**2 + dz**2)\n",
    "Jbz = (mb / 12) * (dx**2 + dy**2)\n",
    "\n",
    "# Radius of each wheel\n",
    "r = 0.5\n",
    "\n",
    "# Width of each wheel\n",
    "hw = 0.2\n",
    "\n",
    "# Mass of each wheel\n",
    "mw = 2.\n",
    "\n",
    "# MOI of each wheel\n",
    "Jw = (mw / 2) * r**2\n",
    "Jwt = (mw / 12) * (3 * r**2 + hw**2)\n",
    "\n",
    "# Total mass\n",
    "m = mb + 2 * mw\n",
    "\n",
    "# Total MOI\n",
    "Jx = Jbx + 2 * Jwt\n",
    "Jy = Jby\n",
    "Jz = Jbz + 2 * Jwt\n",
    "\n",
    "##########################################\n",
    "# Parameters\n",
    "\n",
    "# Define them\n",
    "params = {\n",
    "    r_w: r,\n",
    "    m_w: 2 * mw,\n",
    "    J_w: 2 * Jw,\n",
    "    r_b: h,\n",
    "    m_b: mb,\n",
    "    J_b: Jby,\n",
    "    g: 9.81,\n",
    "}\n",
    "\n",
    "# Show them\n",
    "s = ''\n",
    "for key, val in params.items():\n",
    "    s += fr'{key} &= {mechanics.mlatex(val)} \\\\ '\n",
    "s = s[:-3]\n",
    "display(Markdown(fr'$$ \\begin{{align*}}{s}\\end{{align*}} $$'))"
   ]
  },
  {
   "cell_type": "code",
   "execution_count": 8,
   "id": "16098169",
   "metadata": {},
   "outputs": [
    {
     "data": {
      "image/png": "[encoded data removed]",
      "text/latex": [
       "$\\displaystyle \\left[\\begin{matrix}18 & \\frac{9 \\cos{\\left(\\theta \\right)}}{5}\\\\\\frac{9 \\cos{\\left(\\theta \\right)}}{5} & \\frac{38}{25}\\end{matrix}\\right]$"
      ],
      "text/plain": [
       "⎡          9⋅cos(θ)⎤\n",
       "⎢   18     ────────⎥\n",
       "⎢             5    ⎥\n",
       "⎢                  ⎥\n",
       "⎢9⋅cos(θ)     38   ⎥\n",
       "⎢────────     ──   ⎥\n",
       "⎣   5         25   ⎦"
      ]
     },
     "execution_count": 8,
     "metadata": {},
     "output_type": "execute_result"
    }
   ],
   "source": [
    "sym.nsimplify(M.subs(params), rational=True)"
   ]
  },
  {
   "cell_type": "code",
   "execution_count": 9,
   "id": "14982bbd",
   "metadata": {},
   "outputs": [
    {
     "data": {
      "image/png": "[encoded data removed]",
      "text/latex": [
       "$\\displaystyle \\left[\\begin{matrix}\\frac{J_{w}}{r_{w}^{2}} + m_{b} + m_{w} & m_{b} r_{b} \\cos{\\left(\\theta \\right)}\\\\m_{b} r_{b} \\cos{\\left(\\theta \\right)} & J_{b} + m_{b} r_{b}^{2}\\end{matrix}\\right]$"
      ],
      "text/plain": [
       "⎡J_w                             ⎤\n",
       "⎢──── + m_b + m_w  m_b⋅r_b⋅cos(θ)⎥\n",
       "⎢   2                            ⎥\n",
       "⎢r_w                             ⎥\n",
       "⎢                                ⎥\n",
       "⎢                               2⎥\n",
       "⎣ m_b⋅r_b⋅cos(θ)   J_b + m_b⋅r_b ⎦"
      ]
     },
     "execution_count": 9,
     "metadata": {},
     "output_type": "execute_result"
    }
   ],
   "source": [
    "M"
   ]
  },
  {
   "cell_type": "code",
   "execution_count": 11,
   "id": "7ef7122c",
   "metadata": {},
   "outputs": [
    {
     "name": "stdout",
     "output_type": "stream",
     "text": [
      "\\left[\\begin{matrix}\\frac{J_{w}}{r_{w}^{2}} + m_{b} + m_{w} & m_{b} r_{b} \\cos{\\left(\\theta \\right)}\\\\m_{b} r_{b} \\cos{\\left(\\theta \\right)} & J_{b} + m_{b} r_{b}^{2}\\end{matrix}\\right]\n"
     ]
    }
   ],
   "source": [
    "print(mechanics.mlatex(M))"
   ]
  },
  {
   "cell_type": "markdown",
   "id": "43a610fb",
   "metadata": {},
   "source": [
    "$$ \\left[\\begin{matrix}\\frac{J_{w}}{r_{w}^{2}} + m_{b} + m_{w} & m_{b} r_{b} \\cos{\\left(\\theta \\right)}\\\\m_{b} r_{b} \\cos{\\left(\\theta \\right)} & J_{b} + m_{b} r_{b}^{2}\\end{matrix}\\right] $$"
   ]
  },
  {
   "cell_type": "code",
   "execution_count": 13,
   "id": "96cd9ac4",
   "metadata": {},
   "outputs": [
    {
     "name": "stdout",
     "output_type": "stream",
     "text": [
      "\\left[\\begin{matrix}\\frac{J_{w}}{r_{w}^{2}} + m_{b} + m_{w} & m_{b} r_{b} \\cos{\\left(\\theta{\\left(t \\right)} \\right)}\\\\m_{b} r_{b} \\cos{\\left(\\theta{\\left(t \\right)} \\right)} & J_{b} + m_{b} r_{b}^{2}\\end{matrix}\\right]\n"
     ]
    }
   ],
   "source": [
    "print(sym.latex(M))"
   ]
  },
  {
   "cell_type": "markdown",
   "id": "85d0afa6",
   "metadata": {},
   "source": [
    "$$ \\left[\\begin{matrix}\\frac{J_{w}}{r_{w}^{2}} + m_{b} + m_{w} & m_{b} r_{b} \\cos{\\left(\\theta{\\left(t \\right)} \\right)}\\\\m_{b} r_{b} \\cos{\\left(\\theta{\\left(t \\right)} \\right)} & J_{b} + m_{b} r_{b}^{2}\\end{matrix}\\right] $$"
   ]
  },
  {
   "cell_type": "markdown",
   "id": "96ac43ac",
   "metadata": {},
   "source": [
    "## Do simulations"
   ]
  },
  {
   "cell_type": "markdown",
   "id": "working-minority",
   "metadata": {},
   "source": [
    "Import modules and configure the notebook."
   ]
  },
  {
   "cell_type": "code",
   "execution_count": 14,
   "id": "dimensional-contamination",
   "metadata": {},
   "outputs": [
    {
     "name": "stderr",
     "output_type": "stream",
     "text": [
      "pybullet build time: May 17 2025 21:04:57\n"
     ]
    }
   ],
   "source": [
    "# These modules are part of other existing libraries\n",
    "import numpy as np\n",
    "import matplotlib.pyplot as plt\n",
    "\n",
    "# This is my own script (it is an interface to the pybullet simulator)\n",
    "import ae353_catbot"
   ]
  },
  {
   "cell_type": "markdown",
   "id": "02b723c8",
   "metadata": {},
   "source": [
    "Create an instance of the `Simulator` class, which is an interface to the [pybullet](http://pybullet.org) simulation engine.\n",
    "\n",
    "There are three optional arguments:\n",
    "\n",
    "* `display` (`True` or `False`) is whether or not to show the simulation window;\n",
    "* `sound` (`True` or `False`) is whether or not to play sounds;\n",
    "* `launch_cat` (`True` or `False`) is whether or not to launch a cat."
   ]
  },
  {
   "cell_type": "code",
   "execution_count": 15,
   "id": "359ab3ab",
   "metadata": {},
   "outputs": [
    {
     "name": "stdout",
     "output_type": "stream",
     "text": [
      "argv[0]=\n",
      "You can open the visualizer by visiting the following URL:\n",
      "http://127.0.0.1:7002/static/\n"
     ]
    }
   ],
   "source": [
    "simulator = ae353_catbot.Simulator(\n",
    "    display=True,\n",
    "    sound=False,\n",
    "    launch_cat=True,\n",
    ")"
   ]
  },
  {
   "cell_type": "markdown",
   "id": "c1a0f224",
   "metadata": {},
   "source": [
    "Choose a camera view from the following options:\n",
    "* `camera_sideview()`\n",
    "* `camera_wideview()`\n",
    "* `camera_topview()`\n",
    "* `camera_catview()`"
   ]
  },
  {
   "cell_type": "code",
   "execution_count": 16,
   "id": "96875836",
   "metadata": {},
   "outputs": [],
   "source": [
    "simulator.camera_sideview()"
   ]
  },
  {
   "cell_type": "markdown",
   "id": "75738c69",
   "metadata": {},
   "source": [
    "Define a controller that maps sensor measurements to actuator commands. By default, it chooses to apply zero torque to the wheels. Modify the `run` function to make the controller behave differently. This function will be called 100 times per second (i.e., at 100 Hz) by the simulator."
   ]
  },
  {
   "cell_type": "code",
   "execution_count": 29,
   "id": "e8164ad0",
   "metadata": {},
   "outputs": [],
   "source": [
    "class Controller:\n",
    "    def __init__(self, K):\n",
    "        self.K = K\n",
    "        print('__init__')\n",
    "    \n",
    "    def reset(self):\n",
    "        print('reset')\n",
    "    \n",
    "    def run(\n",
    "            self,\n",
    "            t,\n",
    "            wheel_position,\n",
    "            wheel_velocity,\n",
    "            pitch_angle,\n",
    "            pitch_rate,\n",
    "        ):\n",
    "\n",
    "        print(f'run (t = {t:6.2})')\n",
    "        \n",
    "        x = np.array([\n",
    "            wheel_position,\n",
    "            wheel_velocity,\n",
    "            pitch_angle,\n",
    "            pitch_rate,\n",
    "        ])\n",
    "        u = - self.K @ x\n",
    "\n",
    "        # FIXME: replace the following line\n",
    "        wheel_torque = u[0]\n",
    "        \n",
    "        return wheel_torque"
   ]
  },
  {
   "cell_type": "markdown",
   "id": "bc096551",
   "metadata": {},
   "source": [
    "Create an instance of the controller."
   ]
  },
  {
   "cell_type": "code",
   "execution_count": 31,
   "id": "93300860",
   "metadata": {},
   "outputs": [
    {
     "name": "stdout",
     "output_type": "stream",
     "text": [
      "__init__\n"
     ]
    }
   ],
   "source": [
    "controller = Controller(np.array([[1., 2., 3., 4.]]))"
   ]
  },
  {
   "cell_type": "code",
   "execution_count": 32,
   "id": "639c0ad3",
   "metadata": {},
   "outputs": [
    {
     "name": "stdout",
     "output_type": "stream",
     "text": [
      "run (t =    0.0)\n"
     ]
    },
    {
     "data": {
      "image/png": "[encoded data removed]",
      "text/latex": [
       "$\\displaystyle 0.0$"
      ],
      "text/plain": [
       "np.float64(0.0)"
      ]
     },
     "execution_count": 32,
     "metadata": {},
     "output_type": "execute_result"
    }
   ],
   "source": [
    "controller.run(0., 0., 0., 0., 0.)"
   ]
  },
  {
   "cell_type": "markdown",
   "id": "bcf56b66",
   "metadata": {},
   "source": [
    "Reset the simulator with given initial conditions (example)."
   ]
  },
  {
   "cell_type": "code",
   "execution_count": 33,
   "id": "cf8a455d",
   "metadata": {},
   "outputs": [],
   "source": [
    "simulator.reset(\n",
    "    initial_conditions = {\n",
    "        'wheel_position': 0.,\n",
    "        'wheel_velocity': 0.,\n",
    "        'pitch_angle': 0.,\n",
    "        'pitch_rate': 0.,\n",
    "    }\n",
    ")"
   ]
  },
  {
   "cell_type": "markdown",
   "id": "60bb5168",
   "metadata": {},
   "source": [
    "Reset the simulator with random initial conditions (example)."
   ]
  },
  {
   "cell_type": "code",
   "execution_count": 58,
   "id": "8bb04e98",
   "metadata": {},
   "outputs": [],
   "source": [
    "simulator.reset()"
   ]
  },
  {
   "cell_type": "markdown",
   "id": "74613036",
   "metadata": {},
   "source": [
    "Reset the controller."
   ]
  },
  {
   "cell_type": "code",
   "execution_count": 35,
   "id": "9a0fa5ff",
   "metadata": {},
   "outputs": [
    {
     "name": "stdout",
     "output_type": "stream",
     "text": [
      "reset\n"
     ]
    }
   ],
   "source": [
    "controller.reset()"
   ]
  },
  {
   "cell_type": "markdown",
   "id": "c326b31f",
   "metadata": {},
   "source": [
    "Run the simulator."
   ]
  },
  {
   "cell_type": "code",
   "execution_count": 57,
   "id": "d2152bdf",
   "metadata": {},
   "outputs": [],
   "source": [
    "simulator.display_on()"
   ]
  },
  {
   "cell_type": "code",
   "execution_count": 59,
   "id": "2828993d",
   "metadata": {},
   "outputs": [
    {
     "name": "stdout",
     "output_type": "stream",
     "text": [
      "run (t =    0.0)\n",
      "run (t =   0.01)\n",
      "run (t =   0.02)\n",
      "run (t =   0.03)\n",
      "run (t =   0.04)\n",
      "run (t =   0.05)\n",
      "run (t =   0.06)\n",
      "run (t =   0.07)\n",
      "run (t =   0.08)\n",
      "run (t =   0.09)\n",
      "run (t =    0.1)\n",
      "run (t =   0.11)\n",
      "run (t =   0.12)\n",
      "run (t =   0.13)\n",
      "run (t =   0.14)\n",
      "run (t =   0.15)\n",
      "run (t =   0.16)\n",
      "run (t =   0.17)\n",
      "run (t =   0.18)\n",
      "run (t =   0.19)\n",
      "run (t =    0.2)\n",
      "run (t =   0.21)\n",
      "run (t =   0.22)\n",
      "run (t =   0.23)\n",
      "run (t =   0.24)\n",
      "run (t =   0.25)\n",
      "run (t =   0.26)\n",
      "run (t =   0.27)\n",
      "run (t =   0.28)\n",
      "run (t =   0.29)\n",
      "run (t =    0.3)\n",
      "run (t =   0.31)\n",
      "run (t =   0.32)\n",
      "run (t =   0.33)\n",
      "run (t =   0.34)\n",
      "run (t =   0.35)\n",
      "run (t =   0.36)\n",
      "run (t =   0.37)\n",
      "run (t =   0.38)\n",
      "run (t =   0.39)\n",
      "run (t =    0.4)\n",
      "run (t =   0.41)\n",
      "run (t =   0.42)\n",
      "run (t =   0.43)\n",
      "run (t =   0.44)\n",
      "run (t =   0.45)\n",
      "run (t =   0.46)\n",
      "run (t =   0.47)\n",
      "run (t =   0.48)\n",
      "run (t =   0.49)\n",
      "run (t =    0.5)\n",
      "run (t =   0.51)\n",
      "run (t =   0.52)\n",
      "run (t =   0.53)\n",
      "run (t =   0.54)\n",
      "run (t =   0.55)\n",
      "run (t =   0.56)\n",
      "run (t =   0.57)\n",
      "run (t =   0.58)\n",
      "run (t =   0.59)\n",
      "run (t =    0.6)\n",
      "run (t =   0.61)\n",
      "run (t =   0.62)\n",
      "run (t =   0.63)\n",
      "run (t =   0.64)\n",
      "run (t =   0.65)\n",
      "run (t =   0.66)\n",
      "run (t =   0.67)\n",
      "run (t =   0.68)\n",
      "run (t =   0.69)\n",
      "run (t =    0.7)\n",
      "run (t =   0.71)\n",
      "run (t =   0.72)\n",
      "run (t =   0.73)\n",
      "run (t =   0.74)\n",
      "run (t =   0.75)\n",
      "run (t =   0.76)\n",
      "run (t =   0.77)\n",
      "run (t =   0.78)\n",
      "run (t =   0.79)\n",
      "run (t =    0.8)\n",
      "run (t =   0.81)\n",
      "run (t =   0.82)\n",
      "run (t =   0.83)\n",
      "run (t =   0.84)\n",
      "run (t =   0.85)\n",
      "run (t =   0.86)\n",
      "run (t =   0.87)\n",
      "run (t =   0.88)\n",
      "run (t =   0.89)\n",
      "run (t =    0.9)\n",
      "run (t =   0.91)\n",
      "run (t =   0.92)\n",
      "run (t =   0.93)\n",
      "run (t =   0.94)\n",
      "run (t =   0.95)\n",
      "run (t =   0.96)\n",
      "run (t =   0.97)\n",
      "run (t =   0.98)\n",
      "run (t =   0.99)\n",
      "run (t =    1.0)\n"
     ]
    }
   ],
   "source": [
    "data = simulator.run(\n",
    "    controller,           # <-- required (an instance of your Controller class)\n",
    "    maximum_time=1.,     # <-- optional (how long you want to run the simulation in seconds)\n",
    "    data_filename=None,   # <-- optional (save data to this file, e.g., 'my_data.json')\n",
    "    video_filename=None,  # <-- optional (save video to this file, e.g., 'my_video.mov')\n",
    ")"
   ]
  },
  {
   "cell_type": "code",
   "execution_count": 37,
   "id": "2f8e51ab",
   "metadata": {},
   "outputs": [
    {
     "data": {
      "text/plain": [
       "{'t': array([0.  , 0.01, 0.02, 0.03, 0.04, 0.05, 0.06, 0.07, 0.08, 0.09, 0.1 ,\n",
       "        0.11, 0.12, 0.13, 0.14, 0.15, 0.16, 0.17, 0.18, 0.19, 0.2 , 0.21,\n",
       "        0.22, 0.23, 0.24, 0.25, 0.26, 0.27, 0.28, 0.29, 0.3 , 0.31, 0.32,\n",
       "        0.33, 0.34, 0.35, 0.36, 0.37, 0.38, 0.39, 0.4 , 0.41, 0.42, 0.43,\n",
       "        0.44, 0.45, 0.46, 0.47, 0.48, 0.49, 0.5 , 0.51, 0.52, 0.53, 0.54,\n",
       "        0.55, 0.56, 0.57, 0.58, 0.59, 0.6 , 0.61, 0.62, 0.63, 0.64, 0.65,\n",
       "        0.66, 0.67, 0.68, 0.69, 0.7 , 0.71, 0.72, 0.73, 0.74, 0.75, 0.76,\n",
       "        0.77, 0.78, 0.79, 0.8 , 0.81, 0.82, 0.83, 0.84, 0.85, 0.86, 0.87,\n",
       "        0.88, 0.89, 0.9 , 0.91, 0.92, 0.93, 0.94, 0.95, 0.96, 0.97, 0.98,\n",
       "        0.99, 1.  ]),\n",
       " 'wheel_position': array([-0.7733817 , -0.77286572, -0.77217505, -0.77148256, -0.77078882,\n",
       "        -0.77009436, -0.76939971, -0.76870539, -0.76801193, -0.76731988,\n",
       "        -0.76662983, -0.7659424 , -0.76525822, -0.76457799, -0.76390246,\n",
       "        -0.7632324 , -0.76256868, -0.76191218, -0.76126389, -0.76062484,\n",
       "        -0.75999614, -0.759379  , -0.75877468, -0.75818455, -0.7576101 ,\n",
       "        -0.75705288, -0.75651458, -0.75599702, -0.75550211, -0.75503195,\n",
       "        -0.75458874, -0.75417486, -0.75379286, -0.75344546, -0.75313556,\n",
       "        -0.7528663 , -0.75264099, -0.75246321, -0.75233675, -0.75226569,\n",
       "        -0.75225436, -0.75230739, -0.7524297 , -0.75262655, -0.75290352,\n",
       "        -0.75326654, -0.75372191, -0.75427629, -0.75493673, -0.75571067,\n",
       "        -0.75660592, -0.75763071, -0.75879362, -0.76010358, -0.76156986,\n",
       "        -0.76320202, -0.7650089 , -0.76699504, -0.76916003, -0.77150294,\n",
       "        -0.77402229, -0.77671588, -0.77958074, -0.78261293, -0.7858075 ,\n",
       "        -0.78915831, -0.79265791, -0.79629742, -0.80006636, -0.80395257,\n",
       "        -0.80794206, -0.81201891, -0.81616515, -0.82036071, -0.82458332,\n",
       "        -0.82880847, -0.83300941, -0.83715709, -0.84122019, -0.84516517,\n",
       "        -0.84895629, -0.85255572, -0.8559236 , -0.85901818, -0.86179596,\n",
       "        -0.86421189, -0.86714451, -0.8709092 , -0.87469417, -0.87850033,\n",
       "        -0.88233195, -0.88619283, -0.89008624, -0.89401496, -0.89798126,\n",
       "        -0.90198682, -0.90562022, -0.90912823, -0.91257914, -0.91597154,\n",
       "        -0.91930485]),\n",
       " 'wheel_velocity': array([ 6.96916632e-02,  8.04637238e-02,  7.86975367e-02,  7.66724134e-02,\n",
       "         7.44180733e-02,  7.19516264e-02,  6.92809556e-02,  6.64070889e-02,\n",
       "         6.33258749e-02,  6.00291402e-02,  5.65054913e-02,  5.27408646e-02,\n",
       "         4.87188784e-02,  4.44210635e-02,  3.98269875e-02,  3.49143136e-02,\n",
       "         2.96588047e-02,  2.40383296e-02,  1.80153159e-02,  1.15655280e-02,\n",
       "         4.65595296e-03, -2.74828285e-03, -1.06845396e-02, -1.91928180e-02,\n",
       "        -2.83159430e-02, -3.80997614e-02, -4.85933365e-02, -5.98491758e-02,\n",
       "        -7.19234594e-02, -8.48762891e-02, -9.87719457e-02, -1.13679162e-01,\n",
       "        -1.29671415e-01, -1.46827218e-01, -1.65230431e-01, -1.84970590e-01,\n",
       "        -2.06143227e-01, -2.28850211e-01, -2.53200079e-01, -2.79308376e-01,\n",
       "        -3.07297976e-01, -3.37299399e-01, -3.69451084e-01, -4.03899640e-01,\n",
       "        -4.40795718e-01, -4.80310639e-01, -5.22612635e-01, -5.67882142e-01,\n",
       "        -6.16307746e-01, -6.68085804e-01, -7.23419798e-01, -7.82519414e-01,\n",
       "        -8.45599279e-01, -9.12877311e-01, -9.84572611e-01, -1.06090314e+00,\n",
       "        -1.14119251e+00, -1.22284538e+00, -1.30586063e+00, -1.39021801e+00,\n",
       "        -1.47587863e+00, -1.56278344e+00, -1.65085201e+00, -1.73998174e+00,\n",
       "        -1.83004723e+00, -1.92090027e+00, -2.01237030e+00, -2.10426546e+00,\n",
       "        -2.19637438e+00, -2.28846859e+00, -2.38030241e+00, -2.47163390e+00,\n",
       "        -2.56219128e+00, -2.65172503e+00, -2.73997840e+00, -2.82670729e+00,\n",
       "        -2.91168337e+00, -2.99469920e+00, -3.07557331e+00, -3.15415338e+00,\n",
       "        -3.23032497e+00, -3.30401032e+00, -3.37516460e+00, -3.44379101e+00,\n",
       "        -3.50993208e+00, -3.57367809e+00, -1.93971684e-01, -2.46948450e-01,\n",
       "        -3.32973132e-01, -4.19951250e-01, -5.08819701e-01, -6.00158485e-01,\n",
       "        -6.94314164e-01, -7.91475411e-01, -8.91736074e-01, -7.22806670e-01,\n",
       "        -5.76199327e-01, -5.53600978e-01, -5.27164658e-01, -5.04422111e-01,\n",
       "        -4.84033368e-01]),\n",
       " 'pitch_angle': array([0.06053261, 0.0602919 , 0.06008657, 0.05992322, 0.05980553,\n",
       "        0.05973678, 0.05972005, 0.05975838, 0.05985477, 0.06001237,\n",
       "        0.06023445, 0.06052447, 0.06088613, 0.0613234 , 0.06184055,\n",
       "        0.06244218, 0.06313324, 0.06391901, 0.06480531, 0.06579836,\n",
       "        0.06690483, 0.06813195, 0.06948745, 0.0709797 , 0.07261768,\n",
       "        0.07441105, 0.07637022, 0.07850636, 0.08083148, 0.08335847,\n",
       "        0.08610121, 0.08907456, 0.0922945 , 0.09577817, 0.09954395,\n",
       "        0.10361158, 0.10800221, 0.1127385 , 0.11784477, 0.12334704,\n",
       "        0.12927319, 0.13565306, 0.14251861, 0.14990399, 0.15784568,\n",
       "        0.16638271, 0.17555677, 0.1854123 , 0.19599672, 0.2073605 ,\n",
       "        0.21955736, 0.23264439, 0.24668218, 0.26173497, 0.27787071,\n",
       "        0.29516115, 0.31367387, 0.33345026, 0.35451852, 0.3769076 ,\n",
       "        0.40064704, 0.42576675, 0.45229683, 0.48026738, 0.5097083 ,\n",
       "        0.54064908, 0.57311863, 0.60714509, 0.6427557 , 0.6799767 ,\n",
       "        0.71883325, 0.75934946, 0.80154833, 0.84545202, 0.89108191,\n",
       "        0.9384589 , 0.98760374, 1.03853745, 1.09128171, 1.14585943,\n",
       "        1.20229532, 1.26061642, 1.32085269, 1.38303763, 1.44720874,\n",
       "        1.51340798, 1.52591694, 1.52064268, 1.51584652, 1.5119066 ,\n",
       "        1.50898858, 1.50717035, 1.50646608, 1.50682923, 1.50813921,\n",
       "        1.50965919, 1.50910954, 1.50896224, 1.50938757, 1.51040026,\n",
       "        1.51197331]),\n",
       " 'pitch_rate': array([-3.14418982e-02, -2.29748876e-02, -1.90334710e-02, -1.46912723e-02,\n",
       "        -9.99950910e-03, -4.98842534e-03,  3.27048099e-04,  5.94330951e-03,\n",
       "         1.18652759e-02,  1.81044321e-02,  2.46774754e-02,  3.16053888e-02,\n",
       "         3.89128329e-02,  4.66277509e-02,  5.47811430e-02,  6.34069538e-02,\n",
       "         7.25420494e-02,  8.22195856e-02,  9.24979827e-02,  1.03413299e-01,\n",
       "         1.15015887e-01,  1.27358828e-01,  1.40498985e-01,  1.54497240e-01,\n",
       "         1.69418769e-01,  1.85333347e-01,  2.02315650e-01,  2.20445607e-01,\n",
       "         2.39808753e-01,  2.60496618e-01,  2.82607127e-01,  3.06245033e-01,\n",
       "         3.31522372e-01,  3.58558932e-01,  3.87482758e-01,  4.18430669e-01,\n",
       "         4.51548796e-01,  4.86993148e-01,  5.24930170e-01,  5.65537339e-01,\n",
       "         6.09003735e-01,  6.55530636e-01,  7.05332070e-01,  7.58635361e-01,\n",
       "         8.15674618e-01,  8.76717799e-01,  9.42028938e-01,  1.01189265e+00,\n",
       "         1.08660846e+00,  1.16649066e+00,  1.25186794e+00,  1.34308280e+00,\n",
       "         1.44049052e+00,  1.54445776e+00,  1.65536071e+00,  1.77358204e+00,\n",
       "         1.89822709e+00,  2.02563809e+00,  2.15590084e+00,  2.28908323e+00,\n",
       "         2.42523557e+00,  2.56438949e+00,  2.70655698e+00,  2.85173004e+00,\n",
       "         2.99988057e+00,  3.15096109e+00,  3.30490597e+00,  3.46163362e+00,\n",
       "         3.62104934e+00,  3.78304920e+00,  3.94752143e+00,  4.11436969e+00,\n",
       "         4.28347863e+00,  4.45477133e+00,  4.62818054e+00,  4.80366903e+00,\n",
       "         4.98123542e+00,  5.16092044e+00,  5.34281291e+00,  5.52705174e+00,\n",
       "         5.71384036e+00,  5.90343812e+00,  6.09615305e+00,  6.29235940e+00,\n",
       "         6.49247896e+00,  6.69697464e+00, -3.98826332e-01, -3.30843310e-01,\n",
       "        -2.10318488e-01, -8.48941203e-02,  4.53438853e-02,  1.80318337e-01,\n",
       "         3.19959217e-01,  4.64193006e-01,  6.12966253e-01,  2.46348612e-01,\n",
       "        -5.53979844e-03,  7.70699360e-04, -1.54578216e-02, -3.17340524e-02,\n",
       "        -4.81149490e-02]),\n",
       " 'cat_target': array([0., 0., 0., 0., 0., 0., 0., 0., 0., 0., 0., 0., 0., 0., 0., 0., 0.,\n",
       "        0., 0., 0., 0., 0., 0., 0., 0., 0., 0., 0., 0., 0., 0., 0., 0., 0.,\n",
       "        0., 0., 0., 0., 0., 0., 0., 0., 0., 0., 0., 0., 0., 0., 0., 0., 0.,\n",
       "        0., 0., 0., 0., 0., 0., 0., 0., 0., 0., 0., 0., 0., 0., 0., 0., 0.,\n",
       "        0., 0., 0., 0., 0., 0., 0., 0., 0., 0., 0., 0., 0., 0., 0., 0., 0.,\n",
       "        0., 0., 0., 0., 0., 0., 0., 0., 0., 0., 0., 0., 0., 0., 0., 0.]),\n",
       " 'wheel_torque': array([ 0.57816812,  0.52296213,  0.51065415,  0.49713315,  0.48253412,\n",
       "         0.46693448,  0.45036945,  0.43284285,  0.41433475,  0.39480675,\n",
       "         0.3742056 ,  0.35246571,  0.32951074,  0.30525465,  0.27960225,\n",
       "         0.25244942,  0.22368316,  0.19320015,  0.16082539,  0.12644551,\n",
       "         0.08990619,  0.05104441,  0.00968546, -0.03435787, -0.08128612,\n",
       "        -0.13131415, -0.18467201, -0.24160614, -0.30238041, -0.36727737,\n",
       "        -0.4365995 , -0.51067062, -0.58983729, -0.67447033, -0.76496646,\n",
       "        -0.86174995, -0.96527437, -1.07602448, -1.19451808, -1.32130802,\n",
       "        -1.45698418, -1.60217555, -1.75755224, -1.92382757, -2.10174057,\n",
       "        -2.29213151, -2.49583887, -2.71376693, -2.94687177, -3.19616184,\n",
       "        -3.46269832, -3.74759483, -4.05201645, -4.37717776, -4.72433987,\n",
       "        -5.        , -5.        , -5.        , -5.        , -5.        ,\n",
       "        -5.        , -5.        , -5.        , -5.        , -5.        ,\n",
       "        -5.        , -5.        , -5.        , -5.        , -5.        ,\n",
       "        -5.        , -5.        , -5.        , -5.        , -5.        ,\n",
       "        -5.        , -5.        , -5.        , -5.        , -5.        ,\n",
       "        -5.        , -5.        , -5.        , -5.        , -5.        ,\n",
       "        -5.        , -1.72735761, -1.8737487 , -2.16562518, -2.47774048,\n",
       "        -2.80836992, -3.1562746 , -3.52052053, -3.90029393, -4.29482925,\n",
       "        -3.16677185, -2.44715056, -2.51363933, -2.49942298, -2.47944881,\n",
       "        -2.45608856]),\n",
       " 'wheel_torque_command': array([ 5.78168122e-01,  5.22962131e-01,  5.10654152e-01,  4.97133148e-01,\n",
       "         4.82534118e-01,  4.66934480e-01,  4.50369445e-01,  4.32842846e-01,\n",
       "         4.14334752e-01,  3.94806750e-01,  3.74205601e-01,  3.52465708e-01,\n",
       "         3.29510741e-01,  3.05254653e-01,  2.79602246e-01,  2.52449418e-01,\n",
       "         2.23683165e-01,  1.93200153e-01,  1.60825395e-01,  1.26445513e-01,\n",
       "         8.99061869e-02,  5.10444124e-02,  9.68546350e-03, -3.43578655e-02,\n",
       "        -8.12861246e-02, -1.31314145e-01, -1.84672012e-01, -2.41606143e-01,\n",
       "        -3.02380412e-01, -3.67277367e-01, -4.36599502e-01, -5.10670622e-01,\n",
       "        -5.89837289e-01, -6.74470334e-01, -7.64966464e-01, -8.61749946e-01,\n",
       "        -9.65274367e-01, -1.07602448e+00, -1.19451808e+00, -1.32130802e+00,\n",
       "        -1.45698418e+00, -1.60217555e+00, -1.75755224e+00, -1.92382757e+00,\n",
       "        -2.10174057e+00, -2.29213151e+00, -2.49583887e+00, -2.71376693e+00,\n",
       "        -2.94687177e+00, -3.19616184e+00, -3.46269832e+00, -3.74759483e+00,\n",
       "        -4.05201645e+00, -4.37717776e+00, -4.72433987e+00, -5.09480329e+00,\n",
       "        -5.48653604e+00, -5.89021734e+00, -6.30627763e+00, -6.73511677e+00,\n",
       "        -7.17710386e+00, -7.63257544e+00, -8.10183366e+00, -8.58514590e+00,\n",
       "        -9.08274524e+00, -9.59483275e+00, -1.01215813e+01, -1.06631414e+01,\n",
       "        -1.12196493e+01, -1.17912372e+01, -1.23780386e+01, -1.29802404e+01,\n",
       "        -1.35980118e+01, -1.42316306e+01, -1.48814278e+01, -1.55478297e+01,\n",
       "        -1.62313767e+01, -1.69327386e+01, -1.76527300e+01, -1.83923133e+01,\n",
       "        -1.91526412e+01, -1.99350254e+01, -2.07409175e+01, -2.15719503e+01,\n",
       "        -2.24298819e+01, -2.33165544e+01, -1.72735761e+00, -1.87374870e+00,\n",
       "        -2.16562518e+00, -2.47774048e+00, -2.80836992e+00, -3.15627460e+00,\n",
       "        -3.52052053e+00, -3.90029393e+00, -4.29482925e+00, -3.16677185e+00,\n",
       "        -2.44715056e+00, -2.51363933e+00, -2.49942298e+00, -2.47944881e+00,\n",
       "        -2.45608856e+00])}"
      ]
     },
     "execution_count": 37,
     "metadata": {},
     "output_type": "execute_result"
    }
   ],
   "source": [
    "data"
   ]
  },
  {
   "cell_type": "code",
   "execution_count": 38,
   "id": "40cc7515",
   "metadata": {},
   "outputs": [
    {
     "data": {
      "text/plain": [
       "dict_keys(['t', 'wheel_position', 'wheel_velocity', 'pitch_angle', 'pitch_rate', 'cat_target', 'wheel_torque', 'wheel_torque_command'])"
      ]
     },
     "execution_count": 38,
     "metadata": {},
     "output_type": "execute_result"
    }
   ],
   "source": [
    "data.keys()"
   ]
  },
  {
   "cell_type": "code",
   "execution_count": 39,
   "id": "bda3c118",
   "metadata": {},
   "outputs": [
    {
     "data": {
      "text/plain": [
       "array([0.06053261, 0.0602919 , 0.06008657, 0.05992322, 0.05980553,\n",
       "       0.05973678, 0.05972005, 0.05975838, 0.05985477, 0.06001237,\n",
       "       0.06023445, 0.06052447, 0.06088613, 0.0613234 , 0.06184055,\n",
       "       0.06244218, 0.06313324, 0.06391901, 0.06480531, 0.06579836,\n",
       "       0.06690483, 0.06813195, 0.06948745, 0.0709797 , 0.07261768,\n",
       "       0.07441105, 0.07637022, 0.07850636, 0.08083148, 0.08335847,\n",
       "       0.08610121, 0.08907456, 0.0922945 , 0.09577817, 0.09954395,\n",
       "       0.10361158, 0.10800221, 0.1127385 , 0.11784477, 0.12334704,\n",
       "       0.12927319, 0.13565306, 0.14251861, 0.14990399, 0.15784568,\n",
       "       0.16638271, 0.17555677, 0.1854123 , 0.19599672, 0.2073605 ,\n",
       "       0.21955736, 0.23264439, 0.24668218, 0.26173497, 0.27787071,\n",
       "       0.29516115, 0.31367387, 0.33345026, 0.35451852, 0.3769076 ,\n",
       "       0.40064704, 0.42576675, 0.45229683, 0.48026738, 0.5097083 ,\n",
       "       0.54064908, 0.57311863, 0.60714509, 0.6427557 , 0.6799767 ,\n",
       "       0.71883325, 0.75934946, 0.80154833, 0.84545202, 0.89108191,\n",
       "       0.9384589 , 0.98760374, 1.03853745, 1.09128171, 1.14585943,\n",
       "       1.20229532, 1.26061642, 1.32085269, 1.38303763, 1.44720874,\n",
       "       1.51340798, 1.52591694, 1.52064268, 1.51584652, 1.5119066 ,\n",
       "       1.50898858, 1.50717035, 1.50646608, 1.50682923, 1.50813921,\n",
       "       1.50965919, 1.50910954, 1.50896224, 1.50938757, 1.51040026,\n",
       "       1.51197331])"
      ]
     },
     "execution_count": 39,
     "metadata": {},
     "output_type": "execute_result"
    }
   ],
   "source": [
    "data['pitch_angle']"
   ]
  },
  {
   "cell_type": "code",
   "execution_count": 45,
   "id": "a00cc24a",
   "metadata": {},
   "outputs": [],
   "source": [
    "i = int(np.argwhere(np.abs(data['pitch_angle']) > 0.2).flatten()[0])"
   ]
  },
  {
   "cell_type": "code",
   "execution_count": 46,
   "id": "b5865b97",
   "metadata": {},
   "outputs": [
    {
     "data": {
      "image/png": "[encoded data removed]",
      "text/latex": [
       "$\\displaystyle 0.49$"
      ],
      "text/plain": [
       "np.float64(0.49)"
      ]
     },
     "execution_count": 46,
     "metadata": {},
     "output_type": "execute_result"
    }
   ],
   "source": [
    "data['t'][i]"
   ]
  },
  {
   "cell_type": "code",
   "execution_count": 49,
   "id": "2b59a0d1",
   "metadata": {},
   "outputs": [
    {
     "data": {
      "image/png": "[encoded data removed]",
      "text/latex": [
       "$\\displaystyle -0.668085803753382$"
      ],
      "text/plain": [
       "np.float64(-0.668085803753382)"
      ]
     },
     "execution_count": 49,
     "metadata": {},
     "output_type": "execute_result"
    }
   ],
   "source": [
    "data['wheel_velocity'][i]"
   ]
  },
  {
   "cell_type": "markdown",
   "id": "4903f4b6",
   "metadata": {},
   "source": [
    "Check if a cat was saved."
   ]
  },
  {
   "cell_type": "code",
   "execution_count": null,
   "id": "6e6a478a",
   "metadata": {},
   "outputs": [],
   "source": [
    "did_save_cat = simulator.did_save_cat()\n",
    "if did_save_cat:\n",
    "    print(f'A cat was saved!')\n",
    "else:\n",
    "    print(f'No cat was saved.')"
   ]
  },
  {
   "cell_type": "markdown",
   "id": "601a7926",
   "metadata": {},
   "source": [
    "Get, show, and save a snapshot of the simulation after the last time step."
   ]
  },
  {
   "cell_type": "code",
   "execution_count": null,
   "id": "0cff3241",
   "metadata": {},
   "outputs": [],
   "source": [
    "# Get snapshot as height x width x 4 numpy array of RGBA values\n",
    "rgba = simulator.snapshot()\n",
    "\n",
    "# Display snapshot\n",
    "plt.figure(figsize=(8, 8))\n",
    "plt.imshow(rgba)\n",
    "\n",
    "# Save snapshot\n",
    "plt.imsave('my_snapshot.png', rgba)"
   ]
  },
  {
   "cell_type": "markdown",
   "id": "58c95e55",
   "metadata": {},
   "source": [
    "Plot the results."
   ]
  },
  {
   "cell_type": "code",
   "execution_count": 60,
   "id": "0ff24bb2",
   "metadata": {},
   "outputs": [
    {
     "data": {
      "image/png": "[encoded data removed]",
      "text/plain": [
       "<Figure size 800x800 with 5 Axes>"
      ]
     },
     "metadata": {},
     "output_type": "display_data"
    }
   ],
   "source": [
    "# Create a figure with five subplots, all of which share the same x-axis\n",
    "fig, (\n",
    "    ax_wheel_position,\n",
    "    ax_wheel_velocity,\n",
    "    ax_pitch_angle,\n",
    "    ax_pitch_rate,\n",
    "    ax_wheel_torque,\n",
    ") = plt.subplots(5, 1, figsize=(8, 8), sharex=True)\n",
    "\n",
    "# Plot wheel position\n",
    "ax_wheel_position.plot(\n",
    "    data['t'], data['wheel_position'],\n",
    "    label='wheel_position (m)', linewidth=4,\n",
    ")\n",
    "ax_wheel_position.grid()\n",
    "ax_wheel_position.legend(fontsize=16)\n",
    "ax_wheel_position.tick_params(labelsize=14)\n",
    "\n",
    "# Plot wheel velocity\n",
    "ax_wheel_velocity.plot(\n",
    "    data['t'], data['wheel_velocity'],\n",
    "    label='wheel_velocity (m)', linewidth=4,\n",
    ")\n",
    "ax_wheel_velocity.grid()\n",
    "ax_wheel_velocity.legend(fontsize=16)\n",
    "ax_wheel_velocity.tick_params(labelsize=14)\n",
    "\n",
    "# Plot pitch angle\n",
    "ax_pitch_angle.plot(\n",
    "    data['t'], data['pitch_angle'],\n",
    "    label='pitch_angle (rad)', linewidth=4,\n",
    ")\n",
    "ax_pitch_angle.grid()\n",
    "ax_pitch_angle.legend(fontsize=16)\n",
    "ax_pitch_angle.tick_params(labelsize=14)\n",
    "\n",
    "# Plot pitch rate\n",
    "ax_pitch_rate.plot(\n",
    "    data['t'], data['pitch_rate'],\n",
    "    label='pitch_rate (rad)', linewidth=4,\n",
    ")\n",
    "ax_pitch_rate.grid()\n",
    "ax_pitch_rate.legend(fontsize=16)\n",
    "ax_pitch_rate.tick_params(labelsize=14)\n",
    "\n",
    "# Plot wheel torque\n",
    "ax_wheel_torque.plot(\n",
    "    data['t'], data['wheel_torque_command'],\n",
    "    label='wheel torque command (N-m)', linewidth=4,\n",
    ")\n",
    "ax_wheel_torque.plot(\n",
    "    data['t'], data['wheel_torque'],\n",
    "    '--', label='wheel torque (N-m)', linewidth=4,\n",
    ")\n",
    "ax_wheel_torque.plot(\n",
    "    data['t'], -np.ones_like(data['t']) * simulator.maximum_wheel_torque,\n",
    "    ':', linewidth=4, color='C4', zorder=0,\n",
    ")\n",
    "ax_wheel_torque.plot(\n",
    "    data['t'], np.ones_like(data['t']) * simulator.maximum_wheel_torque,\n",
    "    ':', linewidth=4, color='C4', zorder=0,\n",
    ")\n",
    "ax_wheel_torque.grid()\n",
    "ax_wheel_torque.legend(fontsize=16)\n",
    "ax_wheel_torque.tick_params(labelsize=14)\n",
    "ax_wheel_torque.set_ylim(\n",
    "    -1.2 * simulator.maximum_wheel_torque,\n",
    "    1.2 * simulator.maximum_wheel_torque,\n",
    ")\n",
    "\n",
    "# Set x-axis properties (only need to do this on the last\n",
    "# subplot since all subplots share the same x-axis)\n",
    "ax_wheel_torque.set_xlabel('time (s)', fontsize=20)\n",
    "ax_wheel_torque.set_xlim([data['t'][0], data['t'][-1]])\n",
    "\n",
    "# Make the arrangement of subplots look nice\n",
    "fig.tight_layout()"
   ]
  },
  {
   "cell_type": "markdown",
   "id": "407559d4",
   "metadata": {},
   "source": [
    "Save the figure (without transparent background)."
   ]
  },
  {
   "cell_type": "code",
   "execution_count": 61,
   "id": "5d3c1b22",
   "metadata": {},
   "outputs": [],
   "source": [
    "fig.savefig('my_figure.png', facecolor='white', transparent=False)"
   ]
  },
  {
   "cell_type": "code",
   "execution_count": 63,
   "id": "2eb48062",
   "metadata": {},
   "outputs": [],
   "source": [
    "fig.savefig('../my_figure.pdf', facecolor='white', transparent=False)"
   ]
  }
 ],
 "metadata": {
  "kernelspec": {
   "display_name": "ae353",
   "language": "python",
   "name": "python3"
  },
  "language_info": {
   "codemirror_mode": {
    "name": "ipython",
    "version": 3
   },
   "file_extension": ".py",
   "mimetype": "text/x-python",
   "name": "python",
   "nbconvert_exporter": "python",
   "pygments_lexer": "ipython3",
   "version": "3.13.5"
  }
 },
 "nbformat": 4,
 "nbformat_minor": 5
}
