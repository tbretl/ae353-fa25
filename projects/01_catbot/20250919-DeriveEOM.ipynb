{
 "cells": [
  {
   "cell_type": "markdown",
   "id": "occasional-george",
   "metadata": {},
   "source": [
    "# Equations of motion for the cat-bot"
   ]
  },
  {
   "cell_type": "markdown",
   "id": "d4cbc89f",
   "metadata": {},
   "source": [
    "Do imports."
   ]
  },
  {
   "cell_type": "code",
   "execution_count": null,
   "id": "sitting-discount",
   "metadata": {},
   "outputs": [],
   "source": [
    "import sympy as sym\n",
    "import numpy as np\n",
    "from IPython.display import display, Markdown\n",
    "from sympy.physics import mechanics\n",
    "mechanics.init_vprinting()"
   ]
  },
  {
   "cell_type": "markdown",
   "id": "e2bc1e04",
   "metadata": {},
   "source": [
    "Define variables and constants as symbols."
   ]
  },
  {
   "cell_type": "code",
   "execution_count": null,
   "id": "eb2cd207",
   "metadata": {},
   "outputs": [],
   "source": [
    "# Time\n",
    "t = sym.Symbol('t')\n",
    "\n",
    "# Horizontal position of wheel axle\n",
    "zeta = mechanics.dynamicsymbols('zeta', real=True)\n",
    "\n",
    "# Angle of body from vertical (positive means leaning forward)\n",
    "theta = mechanics.dynamicsymbols('theta', real=True)\n",
    "\n",
    "# Torque applied by the body on the wheel\n",
    "tau = sym.symbols('tau', real=True)\n",
    "\n",
    "# Wheel parameters\n",
    "#   m_w  mass\n",
    "#   J_w  moment of inertia\n",
    "#   r_w  radius\n",
    "m_w, J_w, r_w = sym.symbols('m_w, J_w, r_w', real=True, positive=True)\n",
    "\n",
    "# Body parameters\n",
    "#   m_b  mass\n",
    "#   J_b  moment of inertia (about center-of-mass)\n",
    "#   r_b  distance between wheel axle and body center-of-mass\n",
    "m_b, J_b, r_b = sym.symbols('m_b, J_b, r_b', real=True, positive=True)\n",
    "\n",
    "# Acceleration of gravity\n",
    "g = sym.symbols('g', real=True, positive=True)"
   ]
  },
  {
   "cell_type": "markdown",
   "id": "ac2be7c3",
   "metadata": {},
   "source": [
    "Compute Lagrangian."
   ]
  },
  {
   "cell_type": "code",
   "execution_count": null,
   "id": "2e55a7b4",
   "metadata": {},
   "outputs": [],
   "source": [
    "# Position of wheel and body\n",
    "p_w = sym.Matrix([zeta, r_w])\n",
    "p_b = sym.Matrix([zeta + r_b * sym.sin(theta), r_w + r_b * sym.cos(theta)])\n",
    "\n",
    "# Linear velocity of wheel and body\n",
    "v_w = p_w.diff(t)\n",
    "v_b = p_b.diff(t)\n",
    "\n",
    "# Angular velocity of wheel (assume rolling without slipping on flat ground) and body\n",
    "omega_w = zeta.diff(t) / r_w\n",
    "omega_b = theta.diff(t)\n",
    "\n",
    "# Kinetic and potential energy\n",
    "T = (m_w * v_w.dot(v_w) + m_b * v_b.dot(v_b) + J_w * omega_w**2 + J_b * omega_b**2) / 2\n",
    "V = (m_w * p_w[1] * g) + (m_b * p_b[1] * g)\n",
    "\n",
    "# Lagrangian\n",
    "L = sym.Matrix([sym.simplify(T - V)])"
   ]
  },
  {
   "cell_type": "markdown",
   "id": "5474ce73",
   "metadata": {},
   "source": [
    "Compute and show the matrices $M(q)$, $N(q, \\dot{q})$, and $F(q)$ for which the equations of motion can be expressed as\n",
    "\n",
    "$$ M(q) \\ddot{q} + N(q, \\dot{q}) = F(q) r $$\n",
    "\n",
    "where\n",
    "\n",
    "$$ q = \\begin{bmatrix} \\zeta \\\\ \\theta \\end{bmatrix} \\qquad\\text{and}\\qquad r = \\begin{bmatrix} \\tau \\end{bmatrix}. $$"
   ]
  },
  {
   "cell_type": "code",
   "execution_count": null,
   "id": "c9852b1e",
   "metadata": {},
   "outputs": [],
   "source": [
    "# Generalized coordinates\n",
    "q = sym.Matrix([zeta, theta])\n",
    "\n",
    "# Generalized velocities\n",
    "v = q.diff(t)\n",
    "\n",
    "# Coefficients in the equations of motion\n",
    "M = sym.simplify(L.jacobian(v).jacobian(v))\n",
    "N = sym.simplify(L.jacobian(v).jacobian(q) @ v - L.jacobian(q).T)\n",
    "F = sym.simplify(sym.Matrix([(zeta / r_w) - theta]).jacobian(q).T)\n",
    "\n",
    "# Show results\n",
    "display(Markdown(f'$$ M(q) = {mechanics.mlatex(M)} $$'))\n",
    "display(Markdown(f'$$ N(q, \\\\dot{{q}}) = {mechanics.mlatex(N)} $$'))\n",
    "display(Markdown(f'$$ F(q) = {mechanics.mlatex(F)} $$'))"
   ]
  },
  {
   "cell_type": "markdown",
   "id": "0e6572e3",
   "metadata": {},
   "source": [
    "Define and show the numerical value of constants (consistant with the URDF file)."
   ]
  },
  {
   "cell_type": "code",
   "execution_count": null,
   "id": "d2fcc5aa",
   "metadata": {},
   "outputs": [],
   "source": [
    "##########################################\n",
    "# Temporary variables that can be ignored\n",
    "\n",
    "# Dimensions of chassis\n",
    "dx = 0.5\n",
    "dy = 0.5\n",
    "dz = 1.0\n",
    "\n",
    "# Distance between axle and COM of chassis\n",
    "h = 0.15\n",
    "\n",
    "# Half-distance between wheels\n",
    "a = 0.375\n",
    "\n",
    "# Mass of chassis\n",
    "mb = 12.\n",
    "\n",
    "# MOI of chassis\n",
    "Jbx = (mb / 12) * (dy**2 + dz**2)\n",
    "Jby = (mb / 12) * (dx**2 + dz**2)\n",
    "Jbz = (mb / 12) * (dx**2 + dy**2)\n",
    "\n",
    "# Radius of each wheel\n",
    "r = 0.5\n",
    "\n",
    "# Width of each wheel\n",
    "hw = 0.2\n",
    "\n",
    "# Mass of each wheel\n",
    "mw = 2.\n",
    "\n",
    "# MOI of each wheel\n",
    "Jw = (mw / 2) * r**2\n",
    "Jwt = (mw / 12) * (3 * r**2 + hw**2)\n",
    "\n",
    "# Total mass\n",
    "m = mb + 2 * mw\n",
    "\n",
    "# Total MOI\n",
    "Jx = Jbx + 2 * Jwt\n",
    "Jy = Jby\n",
    "Jz = Jbz + 2 * Jwt\n",
    "\n",
    "##########################################\n",
    "# Parameters\n",
    "\n",
    "# Define them\n",
    "params = {\n",
    "    r_w: r,\n",
    "    m_w: 2 * mw,\n",
    "    J_w: 2 * Jw,\n",
    "    r_b: h,\n",
    "    m_b: mb,\n",
    "    J_b: Jby,\n",
    "    g: 9.81,\n",
    "}\n",
    "\n",
    "# Show them\n",
    "s = ''\n",
    "for key, val in params.items():\n",
    "    s += fr'{key} &= {mechanics.mlatex(val)} \\\\ '\n",
    "s = s[:-3]\n",
    "display(Markdown(fr'$$ \\begin{{align*}}{s}\\end{{align*}} $$'))"
   ]
  }
 ],
 "metadata": {
  "kernelspec": {
   "display_name": "ae353",
   "language": "python",
   "name": "python3"
  },
  "language_info": {
   "codemirror_mode": {
    "name": "ipython",
    "version": 3
   },
   "file_extension": ".py",
   "mimetype": "text/x-python",
   "name": "python",
   "nbconvert_exporter": "python",
   "pygments_lexer": "ipython3",
   "version": "3.13.5"
  }
 },
 "nbformat": 4,
 "nbformat_minor": 5
}
